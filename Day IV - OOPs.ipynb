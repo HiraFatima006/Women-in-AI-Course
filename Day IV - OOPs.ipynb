{
 "cells": [
  {
   "cell_type": "code",
   "execution_count": 1,
   "id": "0a22c7ad",
   "metadata": {},
   "outputs": [],
   "source": [
    "class Employee:\n",
    "    company=\"DELL\"\n",
    "    department=\"WiAI\"  "
   ]
  },
  {
   "cell_type": "code",
   "execution_count": 2,
   "id": "833b2826",
   "metadata": {},
   "outputs": [],
   "source": [
    "x=Employee()"
   ]
  },
  {
   "cell_type": "code",
   "execution_count": 3,
   "id": "a17e8b65",
   "metadata": {},
   "outputs": [
    {
     "data": {
      "text/plain": [
       "'DELL'"
      ]
     },
     "execution_count": 3,
     "metadata": {},
     "output_type": "execute_result"
    }
   ],
   "source": [
    "x.company"
   ]
  },
  {
   "cell_type": "code",
   "execution_count": 4,
   "id": "4711e9a7",
   "metadata": {},
   "outputs": [
    {
     "data": {
      "text/plain": [
       "'Google'"
      ]
     },
     "execution_count": 4,
     "metadata": {},
     "output_type": "execute_result"
    }
   ],
   "source": [
    "x.company=\"Google\"\n",
    "x.company"
   ]
  },
  {
   "cell_type": "code",
   "execution_count": 5,
   "id": "32c03445",
   "metadata": {},
   "outputs": [],
   "source": [
    "y=Employee()"
   ]
  },
  {
   "cell_type": "code",
   "execution_count": 6,
   "id": "43ba48fa",
   "metadata": {},
   "outputs": [
    {
     "data": {
      "text/plain": [
       "'DELL'"
      ]
     },
     "execution_count": 6,
     "metadata": {},
     "output_type": "execute_result"
    }
   ],
   "source": [
    "y.company"
   ]
  },
  {
   "cell_type": "code",
   "execution_count": 7,
   "id": "43610f8a",
   "metadata": {},
   "outputs": [],
   "source": [
    "class Employee:\n",
    "    company=\"DELL\"\n",
    "    department=\"WiAI\"\n",
    "    \n",
    "    def wish(self):\n",
    "        print(\"Good Morning\")\n",
    "   \n",
    "    def add(self,a,b):\n",
    "        return (a+b)"
   ]
  },
  {
   "cell_type": "code",
   "execution_count": 8,
   "id": "fd580791",
   "metadata": {},
   "outputs": [],
   "source": [
    "x=Employee()"
   ]
  },
  {
   "cell_type": "code",
   "execution_count": 9,
   "id": "c811ca9c",
   "metadata": {},
   "outputs": [
    {
     "data": {
      "text/plain": [
       "'DELL'"
      ]
     },
     "execution_count": 9,
     "metadata": {},
     "output_type": "execute_result"
    }
   ],
   "source": [
    "x.company"
   ]
  },
  {
   "cell_type": "code",
   "execution_count": 10,
   "id": "36a4b45f",
   "metadata": {},
   "outputs": [
    {
     "name": "stdout",
     "output_type": "stream",
     "text": [
      "Good Morning\n"
     ]
    }
   ],
   "source": [
    "x.wish()"
   ]
  },
  {
   "cell_type": "code",
   "execution_count": 11,
   "id": "cfb7cf0d",
   "metadata": {},
   "outputs": [
    {
     "data": {
      "text/plain": [
       "21"
      ]
     },
     "execution_count": 11,
     "metadata": {},
     "output_type": "execute_result"
    }
   ],
   "source": [
    "x.add(5,16)"
   ]
  },
  {
   "cell_type": "code",
   "execution_count": 12,
   "id": "3ffa4da8",
   "metadata": {},
   "outputs": [
    {
     "data": {
      "text/plain": [
       "26"
      ]
     },
     "execution_count": 12,
     "metadata": {},
     "output_type": "execute_result"
    }
   ],
   "source": [
    "20+x.add(2,4)"
   ]
  },
  {
   "cell_type": "code",
   "execution_count": 13,
   "id": "e45e0f2d",
   "metadata": {},
   "outputs": [
    {
     "data": {
      "text/plain": [
       "'WiAI'"
      ]
     },
     "execution_count": 13,
     "metadata": {},
     "output_type": "execute_result"
    }
   ],
   "source": [
    "x.department"
   ]
  },
  {
   "cell_type": "code",
   "execution_count": 14,
   "id": "80200914",
   "metadata": {},
   "outputs": [],
   "source": [
    "class Employee:\n",
    "    company=\"LLF\"\n",
    "    department=\"WiAI\"\n",
    "    \n",
    "    def __init__(self,name):\n",
    "        print(f\"{name}, Welcome to Learning Link Foundation\")\n",
    "    \n",
    "    def wish(self):\n",
    "        print(\"Good Morning\")\n",
    "              \n",
    "    def add(self,a,b):\n",
    "        return (a+b)"
   ]
  },
  {
   "cell_type": "code",
   "execution_count": 15,
   "id": "ddcb9fe5",
   "metadata": {},
   "outputs": [
    {
     "name": "stdout",
     "output_type": "stream",
     "text": [
      "Sonu, Welcome to Learning Link Foundation\n"
     ]
    },
    {
     "data": {
      "text/plain": [
       "<__main__.Employee at 0x1d65b884970>"
      ]
     },
     "execution_count": 15,
     "metadata": {},
     "output_type": "execute_result"
    }
   ],
   "source": [
    "Employee(\"Sonu\")"
   ]
  },
  {
   "cell_type": "code",
   "execution_count": 16,
   "id": "c2bb1ab7",
   "metadata": {},
   "outputs": [],
   "source": [
    "class Employee:\n",
    "    company=\"LLF\"\n",
    "    department=\"WiAI\"\n",
    "    \n",
    "    def wish(self):\n",
    "        print(\"Good Morning\")\n",
    "              \n",
    "    def add(self,a,b):\n",
    "        return (a+b)\n",
    "    \n",
    "class Employee2(Employee):\n",
    "    company=\"Google\"\n",
    "    location=\"Delhi\"\n",
    "    \n",
    "    def add(self,a,b):\n",
    "        return(a**2+b**2)"
   ]
  },
  {
   "cell_type": "code",
   "execution_count": 17,
   "id": "b8e70a8c",
   "metadata": {},
   "outputs": [],
   "source": [
    "x=Employee()"
   ]
  },
  {
   "cell_type": "code",
   "execution_count": 18,
   "id": "9b8f765d",
   "metadata": {},
   "outputs": [],
   "source": [
    "y=Employee2()"
   ]
  },
  {
   "cell_type": "code",
   "execution_count": 19,
   "id": "9540faa2",
   "metadata": {},
   "outputs": [
    {
     "data": {
      "text/plain": [
       "10"
      ]
     },
     "execution_count": 19,
     "metadata": {},
     "output_type": "execute_result"
    }
   ],
   "source": [
    "x.add(4,6)"
   ]
  },
  {
   "cell_type": "code",
   "execution_count": 20,
   "id": "8208f6b9",
   "metadata": {},
   "outputs": [
    {
     "data": {
      "text/plain": [
       "52"
      ]
     },
     "execution_count": 20,
     "metadata": {},
     "output_type": "execute_result"
    }
   ],
   "source": [
    "y.add(4,6)"
   ]
  },
  {
   "cell_type": "markdown",
   "id": "06adbccb",
   "metadata": {},
   "source": [
    "## Q) Create a class with the name 'classroom', add function to add or remove students & to collect email ids & contact details"
   ]
  },
  {
   "cell_type": "markdown",
   "id": "e1cb13c7",
   "metadata": {},
   "source": [
    "### General Layout - Instructor"
   ]
  },
  {
   "cell_type": "code",
   "execution_count": 21,
   "id": "bbfb7dde",
   "metadata": {},
   "outputs": [],
   "source": [
    "class Classroom:\n",
    "    \n",
    "    def __init__(self):\n",
    "        self.students=[]\n",
    "        self.contacts=[]\n",
    "        \n",
    "    def add_student(self,name):\n",
    "        s=name\n",
    "        self.students.append(s)        \n",
    "    \n",
    "    def add_contact(self,email_id):\n",
    "        e=email_id\n",
    "        self.contacts.append(e)\n",
    "        \n",
    "    def remove_student(self,name):\n",
    "        self.students.remove(name)"
   ]
  },
  {
   "cell_type": "code",
   "execution_count": 22,
   "id": "9e382609",
   "metadata": {},
   "outputs": [],
   "source": [
    "x=Classroom()"
   ]
  },
  {
   "cell_type": "code",
   "execution_count": 23,
   "id": "02d59915",
   "metadata": {},
   "outputs": [],
   "source": [
    "x.add_student('Hira')"
   ]
  },
  {
   "cell_type": "code",
   "execution_count": 24,
   "id": "cce0ce36",
   "metadata": {},
   "outputs": [],
   "source": [
    "x.add_student('Fatima')"
   ]
  },
  {
   "cell_type": "code",
   "execution_count": 25,
   "id": "cf64f0ce",
   "metadata": {},
   "outputs": [
    {
     "data": {
      "text/plain": [
       "['Hira', 'Fatima']"
      ]
     },
     "execution_count": 25,
     "metadata": {},
     "output_type": "execute_result"
    }
   ],
   "source": [
    "x.students"
   ]
  },
  {
   "cell_type": "code",
   "execution_count": 26,
   "id": "2171efd6",
   "metadata": {},
   "outputs": [],
   "source": [
    "x.remove_student('Hira')"
   ]
  },
  {
   "cell_type": "code",
   "execution_count": 27,
   "id": "68dd2219",
   "metadata": {},
   "outputs": [
    {
     "data": {
      "text/plain": [
       "['Fatima']"
      ]
     },
     "execution_count": 27,
     "metadata": {},
     "output_type": "execute_result"
    }
   ],
   "source": [
    "x.students"
   ]
  },
  {
   "cell_type": "markdown",
   "id": "70c0cae9",
   "metadata": {},
   "source": [
    "### Trial I"
   ]
  },
  {
   "cell_type": "code",
   "execution_count": 28,
   "id": "52b6365e",
   "metadata": {},
   "outputs": [],
   "source": [
    "class Classroom:\n",
    "    standard=\"Eleventh\"\n",
    "    section='C'\n",
    "    \n",
    "    def __init__(self):\n",
    "        self.name=[]\n",
    "        self.email_id=[]\n",
    "        self.number=[]\n",
    "    \n",
    "    def intro(self,name):\n",
    "        print(\"My name is\", name)\n",
    "        \n",
    "    def mail(self,email_id):\n",
    "        print(\"My email id is\", email_id)\n",
    "        \n",
    "    def phone(self,number):\n",
    "        print(\"I am reachable on\", number)"
   ]
  },
  {
   "cell_type": "code",
   "execution_count": 29,
   "id": "4c8b8e33",
   "metadata": {},
   "outputs": [],
   "source": [
    "x=Classroom()"
   ]
  },
  {
   "cell_type": "code",
   "execution_count": 30,
   "id": "d5af0ef5",
   "metadata": {},
   "outputs": [
    {
     "data": {
      "text/plain": [
       "'Eleventh'"
      ]
     },
     "execution_count": 30,
     "metadata": {},
     "output_type": "execute_result"
    }
   ],
   "source": [
    "x.standard"
   ]
  },
  {
   "cell_type": "code",
   "execution_count": 31,
   "id": "b565a986",
   "metadata": {},
   "outputs": [
    {
     "data": {
      "text/plain": [
       "'C'"
      ]
     },
     "execution_count": 31,
     "metadata": {},
     "output_type": "execute_result"
    }
   ],
   "source": [
    "x.section"
   ]
  },
  {
   "cell_type": "code",
   "execution_count": 32,
   "id": "617b64c8",
   "metadata": {},
   "outputs": [
    {
     "name": "stdout",
     "output_type": "stream",
     "text": [
      "My name is abc\n"
     ]
    }
   ],
   "source": [
    "x.intro(\"abc\")"
   ]
  },
  {
   "cell_type": "code",
   "execution_count": 33,
   "id": "a614ec67",
   "metadata": {},
   "outputs": [
    {
     "name": "stdout",
     "output_type": "stream",
     "text": [
      "My email id is abc@gmail.com\n"
     ]
    }
   ],
   "source": [
    "x.mail(\"abc@gmail.com\")"
   ]
  },
  {
   "cell_type": "code",
   "execution_count": 34,
   "id": "c95afdad",
   "metadata": {},
   "outputs": [
    {
     "name": "stdout",
     "output_type": "stream",
     "text": [
      "I am reachable on 45245212\n"
     ]
    }
   ],
   "source": [
    "x.phone(\"45245212\")"
   ]
  },
  {
   "cell_type": "markdown",
   "id": "6817691b",
   "metadata": {},
   "source": [
    "## Create a shopping cart app which will take the items & give the total bill to the customer"
   ]
  },
  {
   "cell_type": "code",
   "execution_count": 35,
   "id": "fd74cc2e",
   "metadata": {},
   "outputs": [
    {
     "ename": "SyntaxError",
     "evalue": "invalid syntax (<ipython-input-35-7bbd14ef62b0>, line 15)",
     "output_type": "error",
     "traceback": [
      "\u001b[1;36m  File \u001b[1;32m\"<ipython-input-35-7bbd14ef62b0>\"\u001b[1;36m, line \u001b[1;32m15\u001b[0m\n\u001b[1;33m    def\u001b[0m\n\u001b[1;37m       ^\u001b[0m\n\u001b[1;31mSyntaxError\u001b[0m\u001b[1;31m:\u001b[0m invalid syntax\n"
     ]
    }
   ],
   "source": [
    "class StopShop:\n",
    "    \n",
    "    def __init__(self):\n",
    "        self.items=[]\n",
    "        self.bill=[]\n",
    "        \n",
    "    def add_item(self,item):\n",
    "        a=item\n",
    "        self.items.append(a)\n",
    "        \n",
    "    def amount(self,cost):\n",
    "        c=cost\n",
    "        self.bill.append(c)\n",
    "        \n",
    "    def\n",
    "        \n",
    "    def add(self,) "
   ]
  }
 ],
 "metadata": {
  "kernelspec": {
   "display_name": "Python 3",
   "language": "python",
   "name": "python3"
  },
  "language_info": {
   "codemirror_mode": {
    "name": "ipython",
    "version": 3
   },
   "file_extension": ".py",
   "mimetype": "text/x-python",
   "name": "python",
   "nbconvert_exporter": "python",
   "pygments_lexer": "ipython3",
   "version": "3.8.8"
  }
 },
 "nbformat": 4,
 "nbformat_minor": 5
}
