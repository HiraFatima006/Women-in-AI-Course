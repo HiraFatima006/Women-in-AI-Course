{
 "cells": [
  {
   "cell_type": "code",
   "execution_count": 24,
   "id": "0f041d2e",
   "metadata": {},
   "outputs": [],
   "source": [
    "# Calculate the number of upper & lower case alphabets in the given string \n",
    "\n",
    "# String = \"She sells seashells by the seashore\"\n",
    "\n",
    "def calc_string(x):\n",
    "    upper_count=0\n",
    "    lower_count=0\n",
    "    for i in x:\n",
    "        if i.isupper():\n",
    "            upper_count+=1\n",
    "        else:\n",
    "            lower_count+=1\n",
    "    return upper_count,lower_count"
   ]
  },
  {
   "cell_type": "code",
   "execution_count": 25,
   "id": "74271025",
   "metadata": {},
   "outputs": [
    {
     "name": "stdout",
     "output_type": "stream",
     "text": [
      "The number of upper case alphabets: 1\n",
      "The number of lower case alphabets: 34\n"
     ]
    }
   ],
   "source": [
    "String = \"She sells seashells by the seashore\"\n",
    "upper_case,lower_case=calc_string(String)\n",
    "print(\"The number of upper case alphabets:\",upper_case)\n",
    "print(\"The number of lower case alphabets:\",lower_case)"
   ]
  },
  {
   "cell_type": "markdown",
   "id": "10fd3b07",
   "metadata": {},
   "source": [
    "# Pandas Library"
   ]
  },
  {
   "cell_type": "code",
   "execution_count": 26,
   "id": "32789bea",
   "metadata": {},
   "outputs": [
    {
     "name": "stdout",
     "output_type": "stream",
     "text": [
      "  Name  Age  Salary\n",
      "0    A   23   21000\n",
      "1    B   24   25000\n",
      "2    C   25   23000\n",
      "3    D   26   21000\n"
     ]
    }
   ],
   "source": [
    "import pandas as pd\n",
    "import matplotlib.pyplot as plt\n",
    "data={\"Name\" : [\"A\",\"B\",\"C\",\"D\"],\"Age\" : [23,24,25,26],\"Salary\" : [21000,25000,23000,21000]}\n",
    "df=pd.DataFrame(data)\n",
    "print(df)"
   ]
  },
  {
   "cell_type": "code",
   "execution_count": 27,
   "id": "16ca7d47",
   "metadata": {},
   "outputs": [],
   "source": [
    "df[\"Location\"]=[\"Hyderabad\",\"Bengaluru\",\"Pune\",\"Mumbai\"]"
   ]
  },
  {
   "cell_type": "code",
   "execution_count": 28,
   "id": "0a6f9ad1",
   "metadata": {},
   "outputs": [
    {
     "data": {
      "text/plain": [
       "<bound method NDFrame.head of   Name  Age  Salary   Location\n",
       "0    A   23   21000  Hyderabad\n",
       "1    B   24   25000  Bengaluru\n",
       "2    C   25   23000       Pune\n",
       "3    D   26   21000     Mumbai>"
      ]
     },
     "execution_count": 28,
     "metadata": {},
     "output_type": "execute_result"
    }
   ],
   "source": [
    "df.head"
   ]
  },
  {
   "cell_type": "code",
   "execution_count": 29,
   "id": "1b5bc709",
   "metadata": {},
   "outputs": [
    {
     "data": {
      "text/plain": [
       "(4, 4)"
      ]
     },
     "execution_count": 29,
     "metadata": {},
     "output_type": "execute_result"
    }
   ],
   "source": [
    "df.shape"
   ]
  },
  {
   "cell_type": "markdown",
   "id": "aa958cb6",
   "metadata": {},
   "source": [
    "### Filtering the Data"
   ]
  },
  {
   "cell_type": "code",
   "execution_count": 30,
   "id": "cf60dcb7",
   "metadata": {},
   "outputs": [
    {
     "data": {
      "text/html": [
       "<div>\n",
       "<style scoped>\n",
       "    .dataframe tbody tr th:only-of-type {\n",
       "        vertical-align: middle;\n",
       "    }\n",
       "\n",
       "    .dataframe tbody tr th {\n",
       "        vertical-align: top;\n",
       "    }\n",
       "\n",
       "    .dataframe thead th {\n",
       "        text-align: right;\n",
       "    }\n",
       "</style>\n",
       "<table border=\"1\" class=\"dataframe\">\n",
       "  <thead>\n",
       "    <tr style=\"text-align: right;\">\n",
       "      <th></th>\n",
       "      <th>Name</th>\n",
       "      <th>Age</th>\n",
       "      <th>Salary</th>\n",
       "      <th>Location</th>\n",
       "    </tr>\n",
       "  </thead>\n",
       "  <tbody>\n",
       "    <tr>\n",
       "      <th>2</th>\n",
       "      <td>C</td>\n",
       "      <td>25</td>\n",
       "      <td>23000</td>\n",
       "      <td>Pune</td>\n",
       "    </tr>\n",
       "    <tr>\n",
       "      <th>3</th>\n",
       "      <td>D</td>\n",
       "      <td>26</td>\n",
       "      <td>21000</td>\n",
       "      <td>Mumbai</td>\n",
       "    </tr>\n",
       "  </tbody>\n",
       "</table>\n",
       "</div>"
      ],
      "text/plain": [
       "  Name  Age  Salary Location\n",
       "2    C   25   23000     Pune\n",
       "3    D   26   21000   Mumbai"
      ]
     },
     "execution_count": 30,
     "metadata": {},
     "output_type": "execute_result"
    }
   ],
   "source": [
    "df_fil=df[df[\"Age\"]>24]\n",
    "df_fil"
   ]
  },
  {
   "cell_type": "code",
   "execution_count": 31,
   "id": "33d72419",
   "metadata": {},
   "outputs": [
    {
     "data": {
      "text/html": [
       "<div>\n",
       "<style scoped>\n",
       "    .dataframe tbody tr th:only-of-type {\n",
       "        vertical-align: middle;\n",
       "    }\n",
       "\n",
       "    .dataframe tbody tr th {\n",
       "        vertical-align: top;\n",
       "    }\n",
       "\n",
       "    .dataframe thead th {\n",
       "        text-align: right;\n",
       "    }\n",
       "</style>\n",
       "<table border=\"1\" class=\"dataframe\">\n",
       "  <thead>\n",
       "    <tr style=\"text-align: right;\">\n",
       "      <th></th>\n",
       "      <th>Name</th>\n",
       "      <th>Age</th>\n",
       "      <th>Salary</th>\n",
       "      <th>Location</th>\n",
       "    </tr>\n",
       "  </thead>\n",
       "  <tbody>\n",
       "    <tr>\n",
       "      <th>0</th>\n",
       "      <td>A</td>\n",
       "      <td>23</td>\n",
       "      <td>21000</td>\n",
       "      <td>Hyderabad</td>\n",
       "    </tr>\n",
       "    <tr>\n",
       "      <th>1</th>\n",
       "      <td>B</td>\n",
       "      <td>24</td>\n",
       "      <td>25000</td>\n",
       "      <td>Bengaluru</td>\n",
       "    </tr>\n",
       "  </tbody>\n",
       "</table>\n",
       "</div>"
      ],
      "text/plain": [
       "  Name  Age  Salary   Location\n",
       "0    A   23   21000  Hyderabad\n",
       "1    B   24   25000  Bengaluru"
      ]
     },
     "execution_count": 31,
     "metadata": {},
     "output_type": "execute_result"
    }
   ],
   "source": [
    "df.head(2)"
   ]
  },
  {
   "cell_type": "code",
   "execution_count": 32,
   "id": "9b1233c5",
   "metadata": {},
   "outputs": [
    {
     "data": {
      "text/html": [
       "<div>\n",
       "<style scoped>\n",
       "    .dataframe tbody tr th:only-of-type {\n",
       "        vertical-align: middle;\n",
       "    }\n",
       "\n",
       "    .dataframe tbody tr th {\n",
       "        vertical-align: top;\n",
       "    }\n",
       "\n",
       "    .dataframe thead th {\n",
       "        text-align: right;\n",
       "    }\n",
       "</style>\n",
       "<table border=\"1\" class=\"dataframe\">\n",
       "  <thead>\n",
       "    <tr style=\"text-align: right;\">\n",
       "      <th></th>\n",
       "      <th>Name</th>\n",
       "      <th>Age</th>\n",
       "      <th>Salary</th>\n",
       "      <th>Location</th>\n",
       "    </tr>\n",
       "  </thead>\n",
       "  <tbody>\n",
       "    <tr>\n",
       "      <th>0</th>\n",
       "      <td>A</td>\n",
       "      <td>23</td>\n",
       "      <td>21000</td>\n",
       "      <td>Hyderabad</td>\n",
       "    </tr>\n",
       "    <tr>\n",
       "      <th>1</th>\n",
       "      <td>B</td>\n",
       "      <td>24</td>\n",
       "      <td>25000</td>\n",
       "      <td>Bengaluru</td>\n",
       "    </tr>\n",
       "    <tr>\n",
       "      <th>2</th>\n",
       "      <td>C</td>\n",
       "      <td>25</td>\n",
       "      <td>23000</td>\n",
       "      <td>Pune</td>\n",
       "    </tr>\n",
       "    <tr>\n",
       "      <th>3</th>\n",
       "      <td>D</td>\n",
       "      <td>27</td>\n",
       "      <td>21000</td>\n",
       "      <td>Mumbai</td>\n",
       "    </tr>\n",
       "  </tbody>\n",
       "</table>\n",
       "</div>"
      ],
      "text/plain": [
       "  Name  Age  Salary   Location\n",
       "0    A   23   21000  Hyderabad\n",
       "1    B   24   25000  Bengaluru\n",
       "2    C   25   23000       Pune\n",
       "3    D   27   21000     Mumbai"
      ]
     },
     "execution_count": 32,
     "metadata": {},
     "output_type": "execute_result"
    }
   ],
   "source": [
    "df.replace(26,27,inplace=True)\n",
    "df"
   ]
  },
  {
   "cell_type": "code",
   "execution_count": 33,
   "id": "2024775d",
   "metadata": {},
   "outputs": [
    {
     "data": {
      "text/html": [
       "<div>\n",
       "<style scoped>\n",
       "    .dataframe tbody tr th:only-of-type {\n",
       "        vertical-align: middle;\n",
       "    }\n",
       "\n",
       "    .dataframe tbody tr th {\n",
       "        vertical-align: top;\n",
       "    }\n",
       "\n",
       "    .dataframe thead th {\n",
       "        text-align: right;\n",
       "    }\n",
       "</style>\n",
       "<table border=\"1\" class=\"dataframe\">\n",
       "  <thead>\n",
       "    <tr style=\"text-align: right;\">\n",
       "      <th></th>\n",
       "      <th>Name</th>\n",
       "      <th>Age</th>\n",
       "      <th>Salary</th>\n",
       "      <th>Location</th>\n",
       "    </tr>\n",
       "  </thead>\n",
       "  <tbody>\n",
       "    <tr>\n",
       "      <th>2</th>\n",
       "      <td>C</td>\n",
       "      <td>25</td>\n",
       "      <td>23000</td>\n",
       "      <td>Pune</td>\n",
       "    </tr>\n",
       "    <tr>\n",
       "      <th>3</th>\n",
       "      <td>D</td>\n",
       "      <td>27</td>\n",
       "      <td>21000</td>\n",
       "      <td>Mumbai</td>\n",
       "    </tr>\n",
       "  </tbody>\n",
       "</table>\n",
       "</div>"
      ],
      "text/plain": [
       "  Name  Age  Salary Location\n",
       "2    C   25   23000     Pune\n",
       "3    D   27   21000   Mumbai"
      ]
     },
     "execution_count": 33,
     "metadata": {},
     "output_type": "execute_result"
    }
   ],
   "source": [
    "df.tail(2)"
   ]
  },
  {
   "cell_type": "code",
   "execution_count": 34,
   "id": "dd391be4",
   "metadata": {},
   "outputs": [
    {
     "data": {
      "text/plain": [
       "22500.0"
      ]
     },
     "execution_count": 34,
     "metadata": {},
     "output_type": "execute_result"
    }
   ],
   "source": [
    "df[\"Salary\"].mean()"
   ]
  },
  {
   "cell_type": "code",
   "execution_count": 35,
   "id": "ec4de07a",
   "metadata": {},
   "outputs": [
    {
     "data": {
      "text/plain": [
       "27"
      ]
     },
     "execution_count": 35,
     "metadata": {},
     "output_type": "execute_result"
    }
   ],
   "source": [
    "df[\"Age\"].max()"
   ]
  },
  {
   "cell_type": "code",
   "execution_count": 36,
   "id": "bf9b050a",
   "metadata": {},
   "outputs": [
    {
     "data": {
      "text/html": [
       "<div>\n",
       "<style scoped>\n",
       "    .dataframe tbody tr th:only-of-type {\n",
       "        vertical-align: middle;\n",
       "    }\n",
       "\n",
       "    .dataframe tbody tr th {\n",
       "        vertical-align: top;\n",
       "    }\n",
       "\n",
       "    .dataframe thead th {\n",
       "        text-align: right;\n",
       "    }\n",
       "</style>\n",
       "<table border=\"1\" class=\"dataframe\">\n",
       "  <thead>\n",
       "    <tr style=\"text-align: right;\">\n",
       "      <th></th>\n",
       "      <th>Name</th>\n",
       "      <th>Age</th>\n",
       "      <th>Salary</th>\n",
       "      <th>Location</th>\n",
       "    </tr>\n",
       "  </thead>\n",
       "  <tbody>\n",
       "    <tr>\n",
       "      <th>0</th>\n",
       "      <td>False</td>\n",
       "      <td>False</td>\n",
       "      <td>False</td>\n",
       "      <td>False</td>\n",
       "    </tr>\n",
       "    <tr>\n",
       "      <th>1</th>\n",
       "      <td>False</td>\n",
       "      <td>False</td>\n",
       "      <td>False</td>\n",
       "      <td>False</td>\n",
       "    </tr>\n",
       "    <tr>\n",
       "      <th>2</th>\n",
       "      <td>False</td>\n",
       "      <td>False</td>\n",
       "      <td>False</td>\n",
       "      <td>False</td>\n",
       "    </tr>\n",
       "    <tr>\n",
       "      <th>3</th>\n",
       "      <td>False</td>\n",
       "      <td>False</td>\n",
       "      <td>False</td>\n",
       "      <td>False</td>\n",
       "    </tr>\n",
       "  </tbody>\n",
       "</table>\n",
       "</div>"
      ],
      "text/plain": [
       "    Name    Age  Salary  Location\n",
       "0  False  False   False     False\n",
       "1  False  False   False     False\n",
       "2  False  False   False     False\n",
       "3  False  False   False     False"
      ]
     },
     "execution_count": 36,
     "metadata": {},
     "output_type": "execute_result"
    }
   ],
   "source": [
    "# isna() method returns a DataFrame object where all the values are replaced with boolean value \"True\" for NA (not-a-number)\n",
    "# otherwise False\n",
    "\n",
    "df.isna()"
   ]
  },
  {
   "cell_type": "code",
   "execution_count": 37,
   "id": "9550cf3c",
   "metadata": {},
   "outputs": [
    {
     "data": {
      "text/plain": [
       "Name        0\n",
       "Age         0\n",
       "Salary      0\n",
       "Location    0\n",
       "dtype: int64"
      ]
     },
     "execution_count": 37,
     "metadata": {},
     "output_type": "execute_result"
    }
   ],
   "source": [
    "df.isna().sum()"
   ]
  },
  {
   "cell_type": "code",
   "execution_count": 38,
   "id": "c36d0353",
   "metadata": {},
   "outputs": [
    {
     "data": {
      "text/plain": [
       "0    False\n",
       "1    False\n",
       "2    False\n",
       "3    False\n",
       "dtype: bool"
      ]
     },
     "execution_count": 38,
     "metadata": {},
     "output_type": "execute_result"
    }
   ],
   "source": [
    "df.duplicated()"
   ]
  },
  {
   "cell_type": "code",
   "execution_count": 39,
   "id": "f006bd13",
   "metadata": {},
   "outputs": [
    {
     "data": {
      "text/plain": [
       "0"
      ]
     },
     "execution_count": 39,
     "metadata": {},
     "output_type": "execute_result"
    }
   ],
   "source": [
    "df.duplicated().sum()"
   ]
  },
  {
   "cell_type": "code",
   "execution_count": 40,
   "id": "6df76d46",
   "metadata": {},
   "outputs": [
    {
     "data": {
      "text/html": [
       "<div>\n",
       "<style scoped>\n",
       "    .dataframe tbody tr th:only-of-type {\n",
       "        vertical-align: middle;\n",
       "    }\n",
       "\n",
       "    .dataframe tbody tr th {\n",
       "        vertical-align: top;\n",
       "    }\n",
       "\n",
       "    .dataframe thead th {\n",
       "        text-align: right;\n",
       "    }\n",
       "</style>\n",
       "<table border=\"1\" class=\"dataframe\">\n",
       "  <thead>\n",
       "    <tr style=\"text-align: right;\">\n",
       "      <th></th>\n",
       "      <th>Name</th>\n",
       "      <th>Age</th>\n",
       "      <th>Salary</th>\n",
       "      <th>Location</th>\n",
       "    </tr>\n",
       "  </thead>\n",
       "  <tbody>\n",
       "    <tr>\n",
       "      <th>0</th>\n",
       "      <td>A</td>\n",
       "      <td>23</td>\n",
       "      <td>21000</td>\n",
       "      <td>Hyderabad</td>\n",
       "    </tr>\n",
       "    <tr>\n",
       "      <th>1</th>\n",
       "      <td>C</td>\n",
       "      <td>25</td>\n",
       "      <td>23000</td>\n",
       "      <td>Pune</td>\n",
       "    </tr>\n",
       "    <tr>\n",
       "      <th>2</th>\n",
       "      <td>D</td>\n",
       "      <td>27</td>\n",
       "      <td>21000</td>\n",
       "      <td>Mumbai</td>\n",
       "    </tr>\n",
       "  </tbody>\n",
       "</table>\n",
       "</div>"
      ],
      "text/plain": [
       "  Name  Age  Salary   Location\n",
       "0    A   23   21000  Hyderabad\n",
       "1    C   25   23000       Pune\n",
       "2    D   27   21000     Mumbai"
      ]
     },
     "execution_count": 40,
     "metadata": {},
     "output_type": "execute_result"
    }
   ],
   "source": [
    "df.drop(index=1).reset_index().drop(\"index\",axis=1)"
   ]
  },
  {
   "cell_type": "code",
   "execution_count": 41,
   "id": "ea666fae",
   "metadata": {},
   "outputs": [
    {
     "data": {
      "text/html": [
       "<div>\n",
       "<style scoped>\n",
       "    .dataframe tbody tr th:only-of-type {\n",
       "        vertical-align: middle;\n",
       "    }\n",
       "\n",
       "    .dataframe tbody tr th {\n",
       "        vertical-align: top;\n",
       "    }\n",
       "\n",
       "    .dataframe thead th {\n",
       "        text-align: right;\n",
       "    }\n",
       "</style>\n",
       "<table border=\"1\" class=\"dataframe\">\n",
       "  <thead>\n",
       "    <tr style=\"text-align: right;\">\n",
       "      <th></th>\n",
       "      <th>Name</th>\n",
       "      <th>Age</th>\n",
       "      <th>Salary</th>\n",
       "    </tr>\n",
       "  </thead>\n",
       "  <tbody>\n",
       "    <tr>\n",
       "      <th>0</th>\n",
       "      <td>A</td>\n",
       "      <td>23</td>\n",
       "      <td>21000</td>\n",
       "    </tr>\n",
       "    <tr>\n",
       "      <th>1</th>\n",
       "      <td>B</td>\n",
       "      <td>24</td>\n",
       "      <td>25000</td>\n",
       "    </tr>\n",
       "    <tr>\n",
       "      <th>2</th>\n",
       "      <td>C</td>\n",
       "      <td>25</td>\n",
       "      <td>23000</td>\n",
       "    </tr>\n",
       "    <tr>\n",
       "      <th>3</th>\n",
       "      <td>D</td>\n",
       "      <td>27</td>\n",
       "      <td>21000</td>\n",
       "    </tr>\n",
       "  </tbody>\n",
       "</table>\n",
       "</div>"
      ],
      "text/plain": [
       "  Name  Age  Salary\n",
       "0    A   23   21000\n",
       "1    B   24   25000\n",
       "2    C   25   23000\n",
       "3    D   27   21000"
      ]
     },
     "execution_count": 41,
     "metadata": {},
     "output_type": "execute_result"
    }
   ],
   "source": [
    "# here axis=1 indicates columns and axis=0 indicates rows\n",
    "\n",
    "df.drop(\"Location\",axis=1)"
   ]
  },
  {
   "cell_type": "code",
   "execution_count": 42,
   "id": "9e75350b",
   "metadata": {},
   "outputs": [
    {
     "data": {
      "image/png": "[encoded data removed]",
      "text/plain": [
       "<Figure size 432x288 with 1 Axes>"
      ]
     },
     "metadata": {
      "needs_background": "light"
     },
     "output_type": "display_data"
    }
   ],
   "source": [
    "plt.plot(df[\"Name\"],df[\"Salary\"],color=\"pink\")\n",
    "plt.show()"
   ]
  },
  {
   "cell_type": "code",
   "execution_count": 43,
   "id": "1d22cb00",
   "metadata": {},
   "outputs": [
    {
     "data": {
      "image/png": "[encoded data removed]",
      "text/plain": [
       "<Figure size 432x288 with 1 Axes>"
      ]
     },
     "metadata": {
      "needs_background": "light"
     },
     "output_type": "display_data"
    }
   ],
   "source": [
    "plt.bar(df[\"Name\"],df[\"Salary\"],color=\"lightblue\")\n",
    "plt.show()"
   ]
  },
  {
   "cell_type": "code",
   "execution_count": 47,
   "id": "804a0097",
   "metadata": {},
   "outputs": [
    {
     "data": {
      "image/png": "[encoded data removed]",
      "text/plain": [
       "<Figure size 432x288 with 1 Axes>"
      ]
     },
     "metadata": {},
     "output_type": "display_data"
    }
   ],
   "source": [
    "colours=[\"black\",\"red\",\"green\",\"orange\"]\n",
    "plt.pie(df[\"Salary\"],labels=df[\"Name\"],autopct=\"%1.1f%%\",shadow=True,explode=[0.1,0.2,0.1,0.2],colors=colours)\n",
    "plt.show()"
   ]
  },
  {
   "cell_type": "markdown",
   "id": "83a08058",
   "metadata": {},
   "source": [
    "## Concatenating Two Data Sets"
   ]
  },
  {
   "cell_type": "code",
   "execution_count": 23,
   "id": "b09a89b6",
   "metadata": {},
   "outputs": [],
   "source": [
    "data1={\"ID\" : [1,2,3,4], \n",
    "       \"Name\" : [\"A\",\"B\",\"C\",\"D\"],\n",
    "        \"Age\" : [23,24,25,26]}\n",
    "df1=pd.DataFrame(data1)"
   ]
  },
  {
   "cell_type": "code",
   "execution_count": 24,
   "id": "7c19866c",
   "metadata": {},
   "outputs": [],
   "source": [
    "data2={\"ID\" : [3,4,5,6], \n",
    "       \"Occupation\" : [\"Engg\",\"Doctor\",\"Teacher\",\"Accountant\"],\n",
    "        \"City\" : [4,5,3,1]}\n",
    "df2=pd.DataFrame(data2)"
   ]
  },
  {
   "cell_type": "code",
   "execution_count": 25,
   "id": "6c68377f",
   "metadata": {},
   "outputs": [
    {
     "data": {
      "text/html": [
       "<div>\n",
       "<style scoped>\n",
       "    .dataframe tbody tr th:only-of-type {\n",
       "        vertical-align: middle;\n",
       "    }\n",
       "\n",
       "    .dataframe tbody tr th {\n",
       "        vertical-align: top;\n",
       "    }\n",
       "\n",
       "    .dataframe thead th {\n",
       "        text-align: right;\n",
       "    }\n",
       "</style>\n",
       "<table border=\"1\" class=\"dataframe\">\n",
       "  <thead>\n",
       "    <tr style=\"text-align: right;\">\n",
       "      <th></th>\n",
       "      <th>ID</th>\n",
       "      <th>Name</th>\n",
       "      <th>Age</th>\n",
       "      <th>Occupation</th>\n",
       "      <th>City</th>\n",
       "    </tr>\n",
       "  </thead>\n",
       "  <tbody>\n",
       "    <tr>\n",
       "      <th>0</th>\n",
       "      <td>1</td>\n",
       "      <td>A</td>\n",
       "      <td>23.0</td>\n",
       "      <td>NaN</td>\n",
       "      <td>NaN</td>\n",
       "    </tr>\n",
       "    <tr>\n",
       "      <th>1</th>\n",
       "      <td>2</td>\n",
       "      <td>B</td>\n",
       "      <td>24.0</td>\n",
       "      <td>NaN</td>\n",
       "      <td>NaN</td>\n",
       "    </tr>\n",
       "    <tr>\n",
       "      <th>2</th>\n",
       "      <td>3</td>\n",
       "      <td>C</td>\n",
       "      <td>25.0</td>\n",
       "      <td>NaN</td>\n",
       "      <td>NaN</td>\n",
       "    </tr>\n",
       "    <tr>\n",
       "      <th>3</th>\n",
       "      <td>4</td>\n",
       "      <td>D</td>\n",
       "      <td>26.0</td>\n",
       "      <td>NaN</td>\n",
       "      <td>NaN</td>\n",
       "    </tr>\n",
       "    <tr>\n",
       "      <th>4</th>\n",
       "      <td>3</td>\n",
       "      <td>NaN</td>\n",
       "      <td>NaN</td>\n",
       "      <td>Engg</td>\n",
       "      <td>4.0</td>\n",
       "    </tr>\n",
       "    <tr>\n",
       "      <th>5</th>\n",
       "      <td>4</td>\n",
       "      <td>NaN</td>\n",
       "      <td>NaN</td>\n",
       "      <td>Doctor</td>\n",
       "      <td>5.0</td>\n",
       "    </tr>\n",
       "    <tr>\n",
       "      <th>6</th>\n",
       "      <td>5</td>\n",
       "      <td>NaN</td>\n",
       "      <td>NaN</td>\n",
       "      <td>Teacher</td>\n",
       "      <td>3.0</td>\n",
       "    </tr>\n",
       "    <tr>\n",
       "      <th>7</th>\n",
       "      <td>6</td>\n",
       "      <td>NaN</td>\n",
       "      <td>NaN</td>\n",
       "      <td>Accountant</td>\n",
       "      <td>1.0</td>\n",
       "    </tr>\n",
       "  </tbody>\n",
       "</table>\n",
       "</div>"
      ],
      "text/plain": [
       "   ID Name   Age  Occupation  City\n",
       "0   1    A  23.0         NaN   NaN\n",
       "1   2    B  24.0         NaN   NaN\n",
       "2   3    C  25.0         NaN   NaN\n",
       "3   4    D  26.0         NaN   NaN\n",
       "4   3  NaN   NaN        Engg   4.0\n",
       "5   4  NaN   NaN      Doctor   5.0\n",
       "6   5  NaN   NaN     Teacher   3.0\n",
       "7   6  NaN   NaN  Accountant   1.0"
      ]
     },
     "execution_count": 25,
     "metadata": {},
     "output_type": "execute_result"
    }
   ],
   "source": [
    "concat_df=pd.concat([df1,df2],ignore_index=True)\n",
    "concat_df"
   ]
  },
  {
   "cell_type": "code",
   "execution_count": 26,
   "id": "e3a1882e",
   "metadata": {},
   "outputs": [
    {
     "data": {
      "text/html": [
       "<div>\n",
       "<style scoped>\n",
       "    .dataframe tbody tr th:only-of-type {\n",
       "        vertical-align: middle;\n",
       "    }\n",
       "\n",
       "    .dataframe tbody tr th {\n",
       "        vertical-align: top;\n",
       "    }\n",
       "\n",
       "    .dataframe thead th {\n",
       "        text-align: right;\n",
       "    }\n",
       "</style>\n",
       "<table border=\"1\" class=\"dataframe\">\n",
       "  <thead>\n",
       "    <tr style=\"text-align: right;\">\n",
       "      <th></th>\n",
       "      <th>ID</th>\n",
       "      <th>Name</th>\n",
       "      <th>Age</th>\n",
       "      <th>Occupation</th>\n",
       "      <th>City</th>\n",
       "    </tr>\n",
       "  </thead>\n",
       "  <tbody>\n",
       "    <tr>\n",
       "      <th>0</th>\n",
       "      <td>3</td>\n",
       "      <td>C</td>\n",
       "      <td>25</td>\n",
       "      <td>Engg</td>\n",
       "      <td>4</td>\n",
       "    </tr>\n",
       "    <tr>\n",
       "      <th>1</th>\n",
       "      <td>4</td>\n",
       "      <td>D</td>\n",
       "      <td>26</td>\n",
       "      <td>Doctor</td>\n",
       "      <td>5</td>\n",
       "    </tr>\n",
       "  </tbody>\n",
       "</table>\n",
       "</div>"
      ],
      "text/plain": [
       "   ID Name  Age Occupation  City\n",
       "0   3    C   25       Engg     4\n",
       "1   4    D   26     Doctor     5"
      ]
     },
     "execution_count": 26,
     "metadata": {},
     "output_type": "execute_result"
    }
   ],
   "source": [
    "# gives the common values of the data sets\n",
    "merge_data=pd.merge(df1,df2,on=\"ID\")\n",
    "merge_data"
   ]
  },
  {
   "cell_type": "code",
   "execution_count": 27,
   "id": "d303af3a",
   "metadata": {},
   "outputs": [
    {
     "data": {
      "text/html": [
       "<div>\n",
       "<style scoped>\n",
       "    .dataframe tbody tr th:only-of-type {\n",
       "        vertical-align: middle;\n",
       "    }\n",
       "\n",
       "    .dataframe tbody tr th {\n",
       "        vertical-align: top;\n",
       "    }\n",
       "\n",
       "    .dataframe thead th {\n",
       "        text-align: right;\n",
       "    }\n",
       "</style>\n",
       "<table border=\"1\" class=\"dataframe\">\n",
       "  <thead>\n",
       "    <tr style=\"text-align: right;\">\n",
       "      <th>Location</th>\n",
       "      <th>Bengaluru</th>\n",
       "      <th>Hyderabad</th>\n",
       "      <th>Mumbai</th>\n",
       "      <th>Pune</th>\n",
       "    </tr>\n",
       "    <tr>\n",
       "      <th>Name</th>\n",
       "      <th></th>\n",
       "      <th></th>\n",
       "      <th></th>\n",
       "      <th></th>\n",
       "    </tr>\n",
       "  </thead>\n",
       "  <tbody>\n",
       "    <tr>\n",
       "      <th>A</th>\n",
       "      <td>NaN</td>\n",
       "      <td>23.0</td>\n",
       "      <td>NaN</td>\n",
       "      <td>NaN</td>\n",
       "    </tr>\n",
       "    <tr>\n",
       "      <th>B</th>\n",
       "      <td>24.0</td>\n",
       "      <td>NaN</td>\n",
       "      <td>NaN</td>\n",
       "      <td>NaN</td>\n",
       "    </tr>\n",
       "    <tr>\n",
       "      <th>C</th>\n",
       "      <td>NaN</td>\n",
       "      <td>NaN</td>\n",
       "      <td>NaN</td>\n",
       "      <td>25.0</td>\n",
       "    </tr>\n",
       "    <tr>\n",
       "      <th>D</th>\n",
       "      <td>NaN</td>\n",
       "      <td>NaN</td>\n",
       "      <td>27.0</td>\n",
       "      <td>NaN</td>\n",
       "    </tr>\n",
       "  </tbody>\n",
       "</table>\n",
       "</div>"
      ],
      "text/plain": [
       "Location  Bengaluru  Hyderabad  Mumbai  Pune\n",
       "Name                                        \n",
       "A               NaN       23.0     NaN   NaN\n",
       "B              24.0        NaN     NaN   NaN\n",
       "C               NaN        NaN     NaN  25.0\n",
       "D               NaN        NaN    27.0   NaN"
      ]
     },
     "execution_count": 27,
     "metadata": {},
     "output_type": "execute_result"
    }
   ],
   "source": [
    "# Will give output upon completing the first part \n",
    "pivot_df=df.pivot(index=\"Name\",columns=\"Location\",values=\"Age\")\n",
    "pivot_df"
   ]
  },
  {
   "cell_type": "code",
   "execution_count": 28,
   "id": "133bd02b",
   "metadata": {},
   "outputs": [
    {
     "name": "stdout",
     "output_type": "stream",
     "text": [
      "<class 'pandas.core.frame.DataFrame'>\n",
      "RangeIndex: 4 entries, 0 to 3\n",
      "Data columns (total 4 columns):\n",
      " #   Column    Non-Null Count  Dtype \n",
      "---  ------    --------------  ----- \n",
      " 0   Name      4 non-null      object\n",
      " 1   Age       4 non-null      int64 \n",
      " 2   Salary    4 non-null      int64 \n",
      " 3   Location  4 non-null      object\n",
      "dtypes: int64(2), object(2)\n",
      "memory usage: 256.0+ bytes\n"
     ]
    }
   ],
   "source": [
    "df.info()"
   ]
  },
  {
   "cell_type": "code",
   "execution_count": 29,
   "id": "e2ffa4d8",
   "metadata": {},
   "outputs": [
    {
     "data": {
      "image/png": "[encoded data removed]",
      "text/plain": [
       "<Figure size 432x288 with 1 Axes>"
      ]
     },
     "metadata": {},
     "output_type": "display_data"
    }
   ],
   "source": [
    "plt.pie(df[\"Salary\"],labels=df[\"Name\"],shadow=True)\n",
    "plt.show()"
   ]
  },
  {
   "cell_type": "code",
   "execution_count": 33,
   "id": "42aa6531",
   "metadata": {},
   "outputs": [
    {
     "data": {
      "image/png": "[encoded data removed]",
      "text/plain": [
       "<Figure size 432x288 with 1 Axes>"
      ]
     },
     "metadata": {},
     "output_type": "display_data"
    }
   ],
   "source": [
    "colour=[\"lightyellow\",\"lightgreen\",\"lightblue\",\"pink\"]\n",
    "plt.pie(df[\"Salary\"],labels=df[\"Name\"],autopct=\"%1.0f%%\",colors=colour,explode=[0.1,0.1,0.1,0.1])\n",
    "plt.show()"
   ]
  },
  {
   "cell_type": "markdown",
   "id": "7d2e28bb",
   "metadata": {},
   "source": [
    "## Plotting a Graph"
   ]
  },
  {
   "cell_type": "code",
   "execution_count": 30,
   "id": "db596e0b",
   "metadata": {},
   "outputs": [],
   "source": [
    "import matplotlib.pyplot as plt"
   ]
  },
  {
   "cell_type": "code",
   "execution_count": 31,
   "id": "49eae5b6",
   "metadata": {},
   "outputs": [],
   "source": [
    "x=[1,2,3,4,5]\n",
    "y=[54,65,87,23,56]"
   ]
  },
  {
   "cell_type": "code",
   "execution_count": 32,
   "id": "d2abf576",
   "metadata": {},
   "outputs": [
    {
     "data": {
      "image/png": "[encoded data removed]",
      "text/plain": [
       "<Figure size 432x288 with 1 Axes>"
      ]
     },
     "metadata": {
      "needs_background": "light"
     },
     "output_type": "display_data"
    }
   ],
   "source": [
    "plt.plot(x,y)\n",
    "plt.title(\"Line Chart\")\n",
    "plt.xlabel(\"x-axis\")\n",
    "plt.ylabel(\"y-axis\")\n",
    "plt.show()"
   ]
  },
  {
   "cell_type": "code",
   "execution_count": 33,
   "id": "34492305",
   "metadata": {},
   "outputs": [
    {
     "data": {
      "image/png": "[encoded data removed]",
      "text/plain": [
       "<Figure size 432x288 with 1 Axes>"
      ]
     },
     "metadata": {
      "needs_background": "light"
     },
     "output_type": "display_data"
    }
   ],
   "source": [
    "plt.scatter(x,y)\n",
    "plt.title(\"Scatter Graph\")\n",
    "plt.xlabel(\"x-axis\")\n",
    "plt.ylabel(\"y-axis\")\n",
    "plt.show()"
   ]
  },
  {
   "cell_type": "markdown",
   "id": "b6383b16",
   "metadata": {},
   "source": [
    "## Q) Plot a graph for the equation y=x^2"
   ]
  },
  {
   "cell_type": "code",
   "execution_count": 34,
   "id": "6c9c1390",
   "metadata": {},
   "outputs": [
    {
     "data": {
      "image/png": "[encoded data removed]",
      "text/plain": [
       "<Figure size 432x288 with 1 Axes>"
      ]
     },
     "metadata": {
      "needs_background": "light"
     },
     "output_type": "display_data"
    }
   ],
   "source": [
    "# here we can first assign the values manually for a handful of values\n",
    "x=[1,2,3,4,5]\n",
    "y=[1,2,9,16,25]\n",
    "plt.plot(x,y)\n",
    "plt.show()"
   ]
  },
  {
   "cell_type": "code",
   "execution_count": 35,
   "id": "58754a04",
   "metadata": {},
   "outputs": [
    {
     "data": {
      "image/png": "[encoded data removed]",
      "text/plain": [
       "<Figure size 432x288 with 1 Axes>"
      ]
     },
     "metadata": {
      "needs_background": "light"
     },
     "output_type": "display_data"
    }
   ],
   "source": [
    "# the same however cannot be done when we have a large amount of values\n",
    "x=[1,2,3,4,5]\n",
    "y=[i**2 for i in x]\n",
    "plt.plot(x,y)\n",
    "plt.show()"
   ]
  },
  {
   "cell_type": "code",
   "execution_count": 36,
   "id": "2ee0b8ac",
   "metadata": {},
   "outputs": [
    {
     "name": "stdout",
     "output_type": "stream",
     "text": [
      "[0, 1, 2, 3, 4, 5, 6, 7, 8, 9]\n",
      "[0, 1, 4, 9, 16, 25, 36, 49, 64, 81]\n"
     ]
    }
   ],
   "source": [
    "# the same can be done using List Comprehension\n",
    "\n",
    "x=[x for x in range(10)]\n",
    "y=[i**2 for i in x]\n",
    "\n",
    "# this will give us the output as list which is known as List Comprehension\n",
    "\n",
    "print(x)\n",
    "print(y)"
   ]
  },
  {
   "cell_type": "code",
   "execution_count": 37,
   "id": "6d7ba800",
   "metadata": {},
   "outputs": [
    {
     "data": {
      "image/png": "[encoded data removed]",
      "text/plain": [
       "<Figure size 432x288 with 1 Axes>"
      ]
     },
     "metadata": {
      "needs_background": "light"
     },
     "output_type": "display_data"
    }
   ],
   "source": [
    "plt.plot(x,y)\n",
    "plt.show()"
   ]
  },
  {
   "cell_type": "code",
   "execution_count": 38,
   "id": "6ab3ca76",
   "metadata": {},
   "outputs": [
    {
     "data": {
      "image/png": "[encoded data removed]",
      "text/plain": [
       "<Figure size 432x288 with 1 Axes>"
      ]
     },
     "metadata": {
      "needs_background": "light"
     },
     "output_type": "display_data"
    }
   ],
   "source": [
    "# Repeating the same with a different range to acheive a Parabola\n",
    "\n",
    "x=[x for x in range(-100,100)]\n",
    "y=[i**2 for i in x]\n",
    "\n",
    "plt.plot(x,y)\n",
    "plt.show()"
   ]
  },
  {
   "cell_type": "code",
   "execution_count": 39,
   "id": "df87e215",
   "metadata": {},
   "outputs": [
    {
     "data": {
      "image/png": "[encoded data removed]",
      "text/plain": [
       "<Figure size 432x288 with 1 Axes>"
      ]
     },
     "metadata": {
      "needs_background": "light"
     },
     "output_type": "display_data"
    }
   ],
   "source": [
    "# Trying the same range with their cubic values\n",
    "\n",
    "x=[x for x in range(-100,100)]\n",
    "y=[i**3 for i in x]\n",
    "\n",
    "plt.plot(x,y)\n",
    "plt.show()"
   ]
  },
  {
   "cell_type": "code",
   "execution_count": 40,
   "id": "b2f30a4d",
   "metadata": {},
   "outputs": [
    {
     "name": "stdout",
     "output_type": "stream",
     "text": [
      "What power do you want to plot the graph to?4\n",
      "[-100, -99, -98, -97, -96, -95, -94, -93, -92, -91, -90, -89, -88, -87, -86, -85, -84, -83, -82, -81, -80, -79, -78, -77, -76, -75, -74, -73, -72, -71, -70, -69, -68, -67, -66, -65, -64, -63, -62, -61, -60, -59, -58, -57, -56, -55, -54, -53, -52, -51, -50, -49, -48, -47, -46, -45, -44, -43, -42, -41, -40, -39, -38, -37, -36, -35, -34, -33, -32, -31, -30, -29, -28, -27, -26, -25, -24, -23, -22, -21, -20, -19, -18, -17, -16, -15, -14, -13, -12, -11, -10, -9, -8, -7, -6, -5, -4, -3, -2, -1, 0, 1, 2, 3, 4, 5, 6, 7, 8, 9, 10, 11, 12, 13, 14, 15, 16, 17, 18, 19, 20, 21, 22, 23, 24, 25, 26, 27, 28, 29, 30, 31, 32, 33, 34, 35, 36, 37, 38, 39, 40, 41, 42, 43, 44, 45, 46, 47, 48, 49, 50, 51, 52, 53, 54, 55, 56, 57, 58, 59, 60, 61, 62, 63, 64, 65, 66, 67, 68, 69, 70, 71, 72, 73, 74, 75, 76, 77, 78, 79, 80, 81, 82, 83, 84, 85, 86, 87, 88, 89, 90, 91, 92, 93, 94, 95, 96, 97, 98, 99]\n",
      "[100000000, 96059601, 92236816, 88529281, 84934656, 81450625, 78074896, 74805201, 71639296, 68574961, 65610000, 62742241, 59969536, 57289761, 54700816, 52200625, 49787136, 47458321, 45212176, 43046721, 40960000, 38950081, 37015056, 35153041, 33362176, 31640625, 29986576, 28398241, 26873856, 25411681, 24010000, 22667121, 21381376, 20151121, 18974736, 17850625, 16777216, 15752961, 14776336, 13845841, 12960000, 12117361, 11316496, 10556001, 9834496, 9150625, 8503056, 7890481, 7311616, 6765201, 6250000, 5764801, 5308416, 4879681, 4477456, 4100625, 3748096, 3418801, 3111696, 2825761, 2560000, 2313441, 2085136, 1874161, 1679616, 1500625, 1336336, 1185921, 1048576, 923521, 810000, 707281, 614656, 531441, 456976, 390625, 331776, 279841, 234256, 194481, 160000, 130321, 104976, 83521, 65536, 50625, 38416, 28561, 20736, 14641, 10000, 6561, 4096, 2401, 1296, 625, 256, 81, 16, 1, 0, 1, 16, 81, 256, 625, 1296, 2401, 4096, 6561, 10000, 14641, 20736, 28561, 38416, 50625, 65536, 83521, 104976, 130321, 160000, 194481, 234256, 279841, 331776, 390625, 456976, 531441, 614656, 707281, 810000, 923521, 1048576, 1185921, 1336336, 1500625, 1679616, 1874161, 2085136, 2313441, 2560000, 2825761, 3111696, 3418801, 3748096, 4100625, 4477456, 4879681, 5308416, 5764801, 6250000, 6765201, 7311616, 7890481, 8503056, 9150625, 9834496, 10556001, 11316496, 12117361, 12960000, 13845841, 14776336, 15752961, 16777216, 17850625, 18974736, 20151121, 21381376, 22667121, 24010000, 25411681, 26873856, 28398241, 29986576, 31640625, 33362176, 35153041, 37015056, 38950081, 40960000, 43046721, 45212176, 47458321, 49787136, 52200625, 54700816, 57289761, 59969536, 62742241, 65610000, 68574961, 71639296, 74805201, 78074896, 81450625, 84934656, 88529281, 92236816, 96059601]\n"
     ]
    },
    {
     "data": {
      "image/png": "[encoded data removed]",
      "text/plain": [
       "<Figure size 432x288 with 1 Axes>"
      ]
     },
     "metadata": {
      "needs_background": "light"
     },
     "output_type": "display_data"
    }
   ],
   "source": [
    "# Now if we want to get the graph for whatever exponential power we want (y=x^n)\n",
    "\n",
    "p=int(input(\"What power do you want to plot the graph to?\"))\n",
    "x=[x for x in range(-100,100)]\n",
    "y=[i**p for i in x]\n",
    "\n",
    "print(x)\n",
    "print(y)\n",
    "\n",
    "plt.plot(x,y)\n",
    "plt.show()"
   ]
  },
  {
   "cell_type": "code",
   "execution_count": 41,
   "id": "c43feeba",
   "metadata": {},
   "outputs": [
    {
     "data": {
      "text/plain": [
       "<Figure size 432x288 with 0 Axes>"
      ]
     },
     "metadata": {},
     "output_type": "display_data"
    }
   ],
   "source": [
    "plt.savefig(\"Graph.png\")"
   ]
  },
  {
   "cell_type": "markdown",
   "id": "7164e164",
   "metadata": {},
   "source": [
    "# Numpy Library"
   ]
  },
  {
   "cell_type": "code",
   "execution_count": 42,
   "id": "186a4d69",
   "metadata": {},
   "outputs": [],
   "source": [
    "import numpy as np"
   ]
  },
  {
   "cell_type": "code",
   "execution_count": 43,
   "id": "c448f103",
   "metadata": {},
   "outputs": [],
   "source": [
    "# using Line Space function which divides into intervals\n",
    "\n",
    "# definite it as a function to make it easier to use\n",
    "\n",
    "def plot_equation():\n",
    "    p=int(input(\"What power do you want to plot the graph to?\"))\n",
    "    x=np.linspace(-100,100,200)\n",
    "    y=[i**p for i in x]\n",
    "\n",
    "    print(x)\n",
    "    print(y)\n",
    "\n",
    "    plt.plot(x,y)\n",
    "    plt.show()"
   ]
  },
  {
   "cell_type": "code",
   "execution_count": 44,
   "id": "bae7f5d2",
   "metadata": {},
   "outputs": [
    {
     "name": "stdout",
     "output_type": "stream",
     "text": [
      "What power do you want to plot the graph to?5\n",
      "[-100.          -98.99497487  -97.98994975  -96.98492462  -95.9798995\n",
      "  -94.97487437  -93.96984925  -92.96482412  -91.95979899  -90.95477387\n",
      "  -89.94974874  -88.94472362  -87.93969849  -86.93467337  -85.92964824\n",
      "  -84.92462312  -83.91959799  -82.91457286  -81.90954774  -80.90452261\n",
      "  -79.89949749  -78.89447236  -77.88944724  -76.88442211  -75.87939698\n",
      "  -74.87437186  -73.86934673  -72.86432161  -71.85929648  -70.85427136\n",
      "  -69.84924623  -68.84422111  -67.83919598  -66.83417085  -65.82914573\n",
      "  -64.8241206   -63.81909548  -62.81407035  -61.80904523  -60.8040201\n",
      "  -59.79899497  -58.79396985  -57.78894472  -56.7839196   -55.77889447\n",
      "  -54.77386935  -53.76884422  -52.7638191   -51.75879397  -50.75376884\n",
      "  -49.74874372  -48.74371859  -47.73869347  -46.73366834  -45.72864322\n",
      "  -44.72361809  -43.71859296  -42.71356784  -41.70854271  -40.70351759\n",
      "  -39.69849246  -38.69346734  -37.68844221  -36.68341709  -35.67839196\n",
      "  -34.67336683  -33.66834171  -32.66331658  -31.65829146  -30.65326633\n",
      "  -29.64824121  -28.64321608  -27.63819095  -26.63316583  -25.6281407\n",
      "  -24.62311558  -23.61809045  -22.61306533  -21.6080402   -20.60301508\n",
      "  -19.59798995  -18.59296482  -17.5879397   -16.58291457  -15.57788945\n",
      "  -14.57286432  -13.5678392   -12.56281407  -11.55778894  -10.55276382\n",
      "   -9.54773869   -8.54271357   -7.53768844   -6.53266332   -5.52763819\n",
      "   -4.52261307   -3.51758794   -2.51256281   -1.50753769   -0.50251256\n",
      "    0.50251256    1.50753769    2.51256281    3.51758794    4.52261307\n",
      "    5.52763819    6.53266332    7.53768844    8.54271357    9.54773869\n",
      "   10.55276382   11.55778894   12.56281407   13.5678392    14.57286432\n",
      "   15.57788945   16.58291457   17.5879397    18.59296482   19.59798995\n",
      "   20.60301508   21.6080402    22.61306533   23.61809045   24.62311558\n",
      "   25.6281407    26.63316583   27.63819095   28.64321608   29.64824121\n",
      "   30.65326633   31.65829146   32.66331658   33.66834171   34.67336683\n",
      "   35.67839196   36.68341709   37.68844221   38.69346734   39.69849246\n",
      "   40.70351759   41.70854271   42.71356784   43.71859296   44.72361809\n",
      "   45.72864322   46.73366834   47.73869347   48.74371859   49.74874372\n",
      "   50.75376884   51.75879397   52.7638191    53.76884422   54.77386935\n",
      "   55.77889447   56.7839196    57.78894472   58.79396985   59.79899497\n",
      "   60.8040201    61.80904523   62.81407035   63.81909548   64.8241206\n",
      "   65.82914573   66.83417085   67.83919598   68.84422111   69.84924623\n",
      "   70.85427136   71.85929648   72.86432161   73.86934673   74.87437186\n",
      "   75.87939698   76.88442211   77.88944724   78.89447236   79.89949749\n",
      "   80.90452261   81.90954774   82.91457286   83.91959799   84.92462312\n",
      "   85.92964824   86.93467337   87.93969849   88.94472362   89.94974874\n",
      "   90.95477387   91.95979899   92.96482412   93.96984925   94.97487437\n",
      "   95.9798995    96.98492462   97.98994975   98.99497487  100.        ]\n",
      "[-10000000000.0, -9507487186.192308, -9034573902.6981, -8580669269.500188, -8145194403.520611, -7727582295.575058, -7327277687.327364, -6943736948.243995, -6576427952.54848, -6224829956.175909, -5888433473.727394, -5566740155.424534, -5259262664.063901, -4965524551.971489, -4685060137.95719, -4417414384.269279, -4162142773.548862, -3918811185.7843575, -3686995775.2659636, -3466282847.5401254, -3256268736.364016, -3056559680.6599894, -2866771701.470057, -2686530478.9103675, -2515471229.12566, -2353238581.2437434, -2199486454.329964, -2053877934.341674, -1916085151.082708, -1785789155.1578407, -1662679794.9272645, -1546455593.461062, -1436823625.4936666, -1333499394.378339, -1236206709.0416348, -1144677560.9378731, -1058652001.0036117, -977878016.612108, -902111408.5277947, -831115667.8607491, -764661853.0211616, -702528466.6738044, -644501332.692503, -590373473.1146057, -539944985.0954533, -493022917.8628472, -449421149.67152077, -408960264.75760895, -371467430.2931178, -336776273.34039325, -304726757.8065917, -275165061.3981501, -247943452.57525492, -222920167.5063119, -199959287.02241576, -178930613.57182053, -159709548.17440867, -142176967.37616062, -126219100.20362478, -111727405.11838752, -98598446.97154243, -86733773.95816001, -76039794.57175754, -66427654.55876891, -57813113.873014174, -50116423.63016908, -43262203.062235035, -37179316.47200864, -31800750.187551703, -27063489.516660452, -22908395.70133553, -19280082.872251824, -16126795.003227822, -13400282.865695564, -11055680.983170267, -9051384.585720018, -7348926.564435566, -5912854.425899875, -4710607.2466579145, -3712392.6276864004, -2891063.648863396, -2221995.823438085, -1682964.0525004552, -1254019.5794509954, -917366.9444704207, -657240.9389893382, -459783.5601579733, -312920.9653158749, -206240.42646160157, -130867.28472243558, -79341.90482408217, -45496.629560371475, -24332.734262962527, -11897.381271042868, -5160.574401032904, -1892.113416287966, -538.54849680015, -100.13470890108223, -7.7864749641483755, -0.03204310684834722, 0.03204310684834269, 7.786474964147641, 100.1347089010794, 538.5484968001391, 1892.1134162879362, 5160.574401032837, 11897.381271042608, 24332.734262962298, 45496.6295603711, 79341.904824081, 130867.28472243469, 206240.4264616003, 312920.96531587315, 459783.56015797093, 657240.9389893318, 917366.9444704165, 1254019.57945099, 1682964.0525004417, 2221995.8234380763, 2891063.6488633854, 3712392.6276863874, 4710607.246657899, 5912854.425899838, 7348926.5644355435, 9051384.585719991, 11055680.983170206, 13400282.865695529, 16126795.003227782, 19280082.872251775, 22908395.70133553, 27063489.516660325, 31800750.18755163, 37179316.472008474, 43262203.062234856, 50116423.630168974, 57813113.87301394, 66427654.55876879, 76039794.57175747, 86733773.95815969, 98598446.97154225, 111727405.11838752, 126219100.20362447, 142176967.37616038, 159709548.17440817, 178930613.57182026, 199959287.0224156, 222920167.5063112, 247943452.57525456, 275165061.39814925, 304726757.80659103, 336776273.34039277, 371467430.29311675, 408960264.7576084, 449421149.6715205, 493022917.86284596, 539944985.0954525, 590373473.1146057, 644501332.6925018, 702528466.6738036, 764661853.0211596, 831115667.8607482, 902111408.5277942, 977878016.6121058, 1058652001.0036105, 1144677560.9378707, 1236206709.0416322, 1333499394.3783376, 1436823625.4936635, 1546455593.4610603, 1662679794.9272645, 1785789155.1578372, 1916085151.082706, 2053877934.341674, 2199486454.32996, 2353238581.243741, 2515471229.125655, 2686530478.910365, 2866771701.470057, 3056559680.6599836, 3256268736.364013, 3466282847.540119, 3686995775.2659574, 3918811185.784354, 4162142773.5488553, 4417414384.269276, 4685060137.95719, 4965524551.97148, 5259262664.063897, 5566740155.424534, 5888433473.7273855, 6224829956.175904, 6576427952.54847, 6943736948.243989, 7327277687.327364, 7727582295.575047, 8145194403.520605, 8580669269.500175, 9034573902.698086, 9507487186.1923, 10000000000.0]\n"
     ]
    },
    {
     "data": {
      "image/png": "[encoded data removed]",
      "text/plain": [
       "<Figure size 432x288 with 1 Axes>"
      ]
     },
     "metadata": {
      "needs_background": "light"
     },
     "output_type": "display_data"
    }
   ],
   "source": [
    "plot_equation()"
   ]
  },
  {
   "cell_type": "markdown",
   "id": "1647cac8",
   "metadata": {},
   "source": [
    "# Q) Plot a graph for the equation y=mx+c"
   ]
  },
  {
   "cell_type": "code",
   "execution_count": 45,
   "id": "809a6905",
   "metadata": {},
   "outputs": [
    {
     "name": "stdout",
     "output_type": "stream",
     "text": [
      "Slope4\n",
      "c2\n"
     ]
    },
    {
     "data": {
      "image/png": "[encoded data removed]",
      "text/plain": [
       "<Figure size 432x288 with 1 Axes>"
      ]
     },
     "metadata": {
      "needs_background": "light"
     },
     "output_type": "display_data"
    }
   ],
   "source": [
    "m=int(input(\"Slope\"))\n",
    "c=int(input(\"c\"))\n",
    "x=np.linspace(-1,0,10)\n",
    "y=[(i*m)+c for i in x]\n",
    "plt.plot(x,y)\n",
    "plt.show()"
   ]
  },
  {
   "cell_type": "markdown",
   "id": "78eff68d",
   "metadata": {},
   "source": [
    "# Q) Plot graphs for trignometric functions"
   ]
  },
  {
   "cell_type": "code",
   "execution_count": 46,
   "id": "5b258dc4",
   "metadata": {},
   "outputs": [
    {
     "data": {
      "image/png": "[encoded data removed]",
      "text/plain": [
       "<Figure size 432x288 with 1 Axes>"
      ]
     },
     "metadata": {
      "needs_background": "light"
     },
     "output_type": "display_data"
    }
   ],
   "source": [
    "x=np.linspace(0,10,400)\n",
    "y=np.sin(x)\n",
    "plt.plot(x,y)\n",
    "plt.title(\"Graph of sin(x)\")\n",
    "plt.xlabel(\"x-axis\")\n",
    "plt.ylabel(\"sin(x)\")\n",
    "plt.show()"
   ]
  },
  {
   "cell_type": "code",
   "execution_count": 47,
   "id": "6fec1cb8",
   "metadata": {},
   "outputs": [
    {
     "data": {
      "image/png": "[encoded data removed]",
      "text/plain": [
       "<Figure size 432x288 with 1 Axes>"
      ]
     },
     "metadata": {
      "needs_background": "light"
     },
     "output_type": "display_data"
    }
   ],
   "source": [
    "x=np.linspace(5,10,400)\n",
    "y=1/np.sin(x)\n",
    "plt.plot(x,y)\n",
    "plt.title(\"Graph of cosec(x)\")\n",
    "plt.xlabel(\"x-axis\")\n",
    "plt.ylabel(\"cosec(x)\")\n",
    "plt.show()"
   ]
  },
  {
   "cell_type": "code",
   "execution_count": 48,
   "id": "73b34b8c",
   "metadata": {},
   "outputs": [
    {
     "data": {
      "image/png": "[encoded data removed]",
      "text/plain": [
       "<Figure size 432x288 with 1 Axes>"
      ]
     },
     "metadata": {
      "needs_background": "light"
     },
     "output_type": "display_data"
    }
   ],
   "source": [
    "x=np.linspace(0,10,400)\n",
    "y=np.cos(x)\n",
    "plt.plot(x,y)\n",
    "plt.title(\"Graph of cos(x)\")\n",
    "plt.xlabel(\"x-axis\")\n",
    "plt.ylabel(\"cos(x)\")\n",
    "plt.show()"
   ]
  },
  {
   "cell_type": "code",
   "execution_count": 49,
   "id": "e829c41e",
   "metadata": {},
   "outputs": [
    {
     "data": {
      "image/png": "[encoded data removed]",
      "text/plain": [
       "<Figure size 432x288 with 1 Axes>"
      ]
     },
     "metadata": {
      "needs_background": "light"
     },
     "output_type": "display_data"
    }
   ],
   "source": [
    "x=np.linspace(0,10,400)\n",
    "y=1/np.cos(x)\n",
    "plt.plot(x,y)\n",
    "plt.title(\"Graph of sec(x)\")\n",
    "plt.xlabel(\"x-axis\")\n",
    "plt.ylabel(\"sec(x)\")\n",
    "plt.show()"
   ]
  },
  {
   "cell_type": "code",
   "execution_count": 50,
   "id": "3b47e82a",
   "metadata": {},
   "outputs": [
    {
     "data": {
      "image/png": "[encoded data removed]",
      "text/plain": [
       "<Figure size 432x288 with 1 Axes>"
      ]
     },
     "metadata": {
      "needs_background": "light"
     },
     "output_type": "display_data"
    }
   ],
   "source": [
    "x=np.linspace(0,10,400)\n",
    "y=np.tan(x)\n",
    "plt.plot(x,y)\n",
    "plt.title(\"Graph of tan(x)\")\n",
    "plt.xlabel(\"x-axis\")\n",
    "plt.ylabel(\"tan(x)\")\n",
    "plt.show()"
   ]
  },
  {
   "cell_type": "code",
   "execution_count": 51,
   "id": "8f7b2a8a",
   "metadata": {},
   "outputs": [
    {
     "data": {
      "image/png": "[encoded data removed]",
      "text/plain": [
       "<Figure size 432x288 with 1 Axes>"
      ]
     },
     "metadata": {
      "needs_background": "light"
     },
     "output_type": "display_data"
    }
   ],
   "source": [
    "x=np.linspace(5,10,400)\n",
    "y=1/np.tan(x)\n",
    "plt.plot(x,y)\n",
    "plt.title(\"Graph of cot(x)\")\n",
    "plt.xlabel(\"x-axis\")\n",
    "plt.ylabel(\"cot(x)\")\n",
    "plt.show()"
   ]
  },
  {
   "cell_type": "markdown",
   "id": "09a20759",
   "metadata": {},
   "source": [
    "# Matrices  "
   ]
  },
  {
   "cell_type": "code",
   "execution_count": 52,
   "id": "1e339f27",
   "metadata": {},
   "outputs": [
    {
     "data": {
      "text/plain": [
       "array([2, 3, 4])"
      ]
     },
     "execution_count": 52,
     "metadata": {},
     "output_type": "execute_result"
    }
   ],
   "source": [
    "m1=np.array([2,3,4])\n",
    "m1"
   ]
  },
  {
   "cell_type": "code",
   "execution_count": 53,
   "id": "313144b6",
   "metadata": {},
   "outputs": [
    {
     "data": {
      "text/plain": [
       "array([[1, 2, 3],\n",
       "       [4, 5, 6]])"
      ]
     },
     "execution_count": 53,
     "metadata": {},
     "output_type": "execute_result"
    }
   ],
   "source": [
    "m2=np.array([[1,2,3],[4,5,6]])\n",
    "m2"
   ]
  },
  {
   "cell_type": "code",
   "execution_count": 54,
   "id": "07d7e0e8",
   "metadata": {},
   "outputs": [
    {
     "data": {
      "text/plain": [
       "array([[ 3,  5,  7],\n",
       "       [ 6,  8, 10]])"
      ]
     },
     "execution_count": 54,
     "metadata": {},
     "output_type": "execute_result"
    }
   ],
   "source": [
    "m1+m2"
   ]
  },
  {
   "cell_type": "code",
   "execution_count": 55,
   "id": "2ff10c79",
   "metadata": {},
   "outputs": [
    {
     "data": {
      "text/plain": [
       "array([[ 2,  6, 12],\n",
       "       [ 8, 15, 24]])"
      ]
     },
     "execution_count": 55,
     "metadata": {},
     "output_type": "execute_result"
    }
   ],
   "source": [
    "m1*m2"
   ]
  },
  {
   "cell_type": "markdown",
   "id": "1019e592",
   "metadata": {},
   "source": [
    "### Left-Side Indexing"
   ]
  },
  {
   "cell_type": "code",
   "execution_count": 56,
   "id": "bef93c26",
   "metadata": {},
   "outputs": [
    {
     "data": {
      "text/plain": [
       "array([1, 2, 3])"
      ]
     },
     "execution_count": 56,
     "metadata": {},
     "output_type": "execute_result"
    }
   ],
   "source": [
    "# left-side indexing starts with 0 (eg: 0,1,2,3,...)\n",
    "\n",
    "m2[0]"
   ]
  },
  {
   "cell_type": "code",
   "execution_count": 57,
   "id": "5b84ec4e",
   "metadata": {},
   "outputs": [
    {
     "data": {
      "text/plain": [
       "array([4, 5, 6])"
      ]
     },
     "execution_count": 57,
     "metadata": {},
     "output_type": "execute_result"
    }
   ],
   "source": [
    "m2[1]"
   ]
  },
  {
   "cell_type": "markdown",
   "id": "b1200c63",
   "metadata": {},
   "source": [
    "### Right-Side Indexing"
   ]
  },
  {
   "cell_type": "code",
   "execution_count": 58,
   "id": "f8c4cdb3",
   "metadata": {},
   "outputs": [
    {
     "data": {
      "text/plain": [
       "array([4, 5, 6])"
      ]
     },
     "execution_count": 58,
     "metadata": {},
     "output_type": "execute_result"
    }
   ],
   "source": [
    "# right-side indexing starts with -1 (eg: ...,-3,-2,-1)\n",
    "\n",
    "m2[-1]"
   ]
  },
  {
   "cell_type": "code",
   "execution_count": 59,
   "id": "094707da",
   "metadata": {},
   "outputs": [
    {
     "data": {
      "text/plain": [
       "array([1, 2, 3])"
      ]
     },
     "execution_count": 59,
     "metadata": {},
     "output_type": "execute_result"
    }
   ],
   "source": [
    "m2[-2]"
   ]
  },
  {
   "cell_type": "code",
   "execution_count": 60,
   "id": "3663e41a",
   "metadata": {},
   "outputs": [
    {
     "data": {
      "text/plain": [
       "6"
      ]
     },
     "execution_count": 60,
     "metadata": {},
     "output_type": "execute_result"
    }
   ],
   "source": [
    "m2[1][2]"
   ]
  },
  {
   "cell_type": "code",
   "execution_count": 61,
   "id": "ebe537c1",
   "metadata": {},
   "outputs": [],
   "source": [
    "m3=np.array([44,8,60])\n",
    "m4=np.array([2,12,32])"
   ]
  },
  {
   "cell_type": "code",
   "execution_count": 62,
   "id": "941443ab",
   "metadata": {},
   "outputs": [
    {
     "name": "stdout",
     "output_type": "stream",
     "text": [
      "[ 0  8 28]\n"
     ]
    }
   ],
   "source": [
    "# using the mod function\n",
    "\n",
    "j=np.mod(m3,m4)\n",
    "print(j)"
   ]
  },
  {
   "cell_type": "code",
   "execution_count": 63,
   "id": "0e4ae6e6",
   "metadata": {},
   "outputs": [
    {
     "name": "stdout",
     "output_type": "stream",
     "text": [
      "[  88   96 1920]\n"
     ]
    }
   ],
   "source": [
    "# finding the product\n",
    "\n",
    "mprod=m3*m4\n",
    "print(mprod)"
   ]
  },
  {
   "cell_type": "code",
   "execution_count": 64,
   "id": "21af7029",
   "metadata": {},
   "outputs": [
    {
     "name": "stdout",
     "output_type": "stream",
     "text": [
      "2104\n"
     ]
    }
   ],
   "source": [
    "# finding the dot product\n",
    "\n",
    "m_dot_prod=np.dot(m3,m4)\n",
    "print(m_dot_prod)"
   ]
  },
  {
   "cell_type": "code",
   "execution_count": 65,
   "id": "1f06f81e",
   "metadata": {},
   "outputs": [
    {
     "name": "stdout",
     "output_type": "stream",
     "text": [
      "[[1 4]\n",
      " [2 5]\n",
      " [3 6]]\n"
     ]
    }
   ],
   "source": [
    "# finding the transpose of the matrix\n",
    "\n",
    "m_transpose=np.transpose(m2)\n",
    "print (m_transpose)"
   ]
  },
  {
   "cell_type": "code",
   "execution_count": 66,
   "id": "f88d1ee3",
   "metadata": {},
   "outputs": [
    {
     "name": "stdout",
     "output_type": "stream",
     "text": [
      "[[-1.10526316  1.78947368 -1.31578947]\n",
      " [ 0.21052632 -0.57894737  0.63157895]\n",
      " [ 0.36842105 -0.26315789  0.10526316]]\n"
     ]
    }
   ],
   "source": [
    "# finding the inverse of a matrix \n",
    "\n",
    "matrix=np.array([[2,3,7],[4,7,8],[3,7,5]])\n",
    "inverse=np.linalg.inv(matrix)\n",
    "print(inverse)"
   ]
  },
  {
   "cell_type": "code",
   "execution_count": 67,
   "id": "8c726ccb",
   "metadata": {},
   "outputs": [
    {
     "name": "stdout",
     "output_type": "stream",
     "text": [
      "18.999999999999996\n"
     ]
    }
   ],
   "source": [
    "# finding the determinent of a matrix\n",
    "\n",
    "det_matrix=np.linalg.det(matrix)\n",
    "print(det_matrix)"
   ]
  },
  {
   "cell_type": "markdown",
   "id": "bcad41ac",
   "metadata": {},
   "source": [
    "## Linear Equations"
   ]
  },
  {
   "cell_type": "markdown",
   "id": "93ad1d20",
   "metadata": {},
   "source": [
    "### Q) Solve 2x+y=8, 3x+4y=18 using matrices"
   ]
  },
  {
   "cell_type": "code",
   "execution_count": 68,
   "id": "70546a2b",
   "metadata": {},
   "outputs": [],
   "source": [
    "m1=np.array([[2,1],[3,4]])\n",
    "co_m2=np.array([8,18])"
   ]
  },
  {
   "cell_type": "code",
   "execution_count": 69,
   "id": "2d187666",
   "metadata": {},
   "outputs": [
    {
     "name": "stdout",
     "output_type": "stream",
     "text": [
      "[2.8 2.4]\n"
     ]
    }
   ],
   "source": [
    "solution=np.linalg.solve(m1,co_m2)\n",
    "print(solution)"
   ]
  },
  {
   "cell_type": "markdown",
   "id": "b7120623",
   "metadata": {},
   "source": [
    "### Q) Solve 3x+4y=10, x+y=5 using matrices"
   ]
  },
  {
   "cell_type": "code",
   "execution_count": 70,
   "id": "ac093177",
   "metadata": {},
   "outputs": [],
   "source": [
    "m1=np.array([[3,4],[1,1]])\n",
    "co_m2=np.array([10,5])"
   ]
  },
  {
   "cell_type": "code",
   "execution_count": 71,
   "id": "05fdc433",
   "metadata": {},
   "outputs": [
    {
     "name": "stdout",
     "output_type": "stream",
     "text": [
      "[10. -5.]\n"
     ]
    }
   ],
   "source": [
    "solution=np.linalg.solve(m1,co_m2)\n",
    "print(solution)"
   ]
  }
 ],
 "metadata": {
  "kernelspec": {
   "display_name": "Python 3",
   "language": "python",
   "name": "python3"
  },
  "language_info": {
   "codemirror_mode": {
    "name": "ipython",
    "version": 3
   },
   "file_extension": ".py",
   "mimetype": "text/x-python",
   "name": "python",
   "nbconvert_exporter": "python",
   "pygments_lexer": "ipython3",
   "version": "3.8.8"
  }
 },
 "nbformat": 4,
 "nbformat_minor": 5
}
