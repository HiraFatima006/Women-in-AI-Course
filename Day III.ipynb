{
 "cells": [
  {
   "cell_type": "code",
   "execution_count": 6,
   "id": "2b177c56",
   "metadata": {},
   "outputs": [],
   "source": [
    "# Write a function that will give the sum of numbers in the list without using any pre-defined Python function or libraries\n",
    "\n",
    "def sum_list(x):\n",
    "    count=0\n",
    "    for i in x:\n",
    "        count+=i\n",
    "    return count"
   ]
  },
  {
   "cell_type": "code",
   "execution_count": 7,
   "id": "0b2e3154",
   "metadata": {},
   "outputs": [
    {
     "name": "stdout",
     "output_type": "stream",
     "text": [
      "30\n"
     ]
    }
   ],
   "source": [
    "print(sum_list([5,7,8,10]))"
   ]
  },
  {
   "cell_type": "code",
   "execution_count": 15,
   "id": "c8372750",
   "metadata": {},
   "outputs": [],
   "source": [
    "# Write a function that will count the number of vowels present in a given string or text \n",
    "# without using any pre-defined Python function or libraries\n",
    "\n",
    "def vowel_count(x):\n",
    "    count=0\n",
    "    x=x.lower()\n",
    "    v=['a','e','i','o','u']\n",
    "    for i in x:\n",
    "        if i in v:\n",
    "            count+=1\n",
    "    return count"
   ]
  },
  {
   "cell_type": "code",
   "execution_count": 18,
   "id": "9428dfbe",
   "metadata": {},
   "outputs": [
    {
     "data": {
      "text/plain": [
       "10"
      ]
     },
     "execution_count": 18,
     "metadata": {},
     "output_type": "execute_result"
    }
   ],
   "source": [
    "s=\"She sells sea shells by the sea shore\"\n",
    "vowel_count(s)"
   ]
  },
  {
   "cell_type": "markdown",
   "id": "b0931f63",
   "metadata": {},
   "source": [
    "## Creating a DataFrame"
   ]
  },
  {
   "cell_type": "code",
   "execution_count": 27,
   "id": "0db5dd3b",
   "metadata": {},
   "outputs": [],
   "source": [
    "import pandas as pd\n",
    "import random"
   ]
  },
  {
   "cell_type": "code",
   "execution_count": 28,
   "id": "55a7ead1",
   "metadata": {},
   "outputs": [],
   "source": [
    "data={\"Name\" : [\"A\",\"B\",\"C\",\"D'\",\"E\"],\n",
    "      \"Gender\" : [\"F\",\"F\",\"F\",\"M\",\"M\"],\n",
    "      \"Age\" : [42,67,21,33,78],\n",
    "      \"Height (in cm)\" : [165,187,142,198,153],\n",
    "      \"Weight (in kg)\" : [76,52,64,87,68]}"
   ]
  },
  {
   "cell_type": "code",
   "execution_count": 29,
   "id": "72b2a027",
   "metadata": {},
   "outputs": [],
   "source": [
    "df=pd.DataFrame(data)"
   ]
  },
  {
   "cell_type": "code",
   "execution_count": 35,
   "id": "12c0915e",
   "metadata": {},
   "outputs": [
    {
     "ename": "SyntaxError",
     "evalue": "invalid syntax (<ipython-input-35-346054eea84a>, line 12)",
     "output_type": "error",
     "traceback": [
      "\u001b[1;36m  File \u001b[1;32m\"<ipython-input-35-346054eea84a>\"\u001b[1;36m, line \u001b[1;32m12\u001b[0m\n\u001b[1;33m    \"Weight (in kg)\" : weight}ignore_index=True)\u001b[0m\n\u001b[1;37m                              ^\u001b[0m\n\u001b[1;31mSyntaxError\u001b[0m\u001b[1;31m:\u001b[0m invalid syntax\n"
     ]
    }
   ],
   "source": [
    "for _ in range(5):\n",
    "    name=''.join(random.choice('abcdefghijklmnopqrstuvwxyz'))\n",
    "    gender=random.choice([\"F\",\"M\"])\n",
    "    age=random.randint(40,80)\n",
    "    height=random.randint(150,200)\n",
    "    weight=random.uniform(50,100)\n",
    "    \n",
    "df=df.append({\"Name\" : name,\n",
    "              \"Gender\" : gender,\n",
    "              \"Age\": age,\n",
    "              \"Height (in cm)\" : height,\n",
    "              \"Weight (in kg)\" : weight}ignore_index=True)"
   ]
  },
  {
   "cell_type": "code",
   "execution_count": null,
   "id": "c7a3a184",
   "metadata": {},
   "outputs": [],
   "source": [
    "print(df)"
   ]
  },
  {
   "cell_type": "code",
   "execution_count": null,
   "id": "6bf5f49f",
   "metadata": {},
   "outputs": [],
   "source": [
    "#Adding a new column to calculate BMI\n",
    "df[\"BMI\"]=df[\"Weight (in kg)\"] / df[\"Height (in cm)\"] / 100)**2)\n",
    "\n",
    "#Calculating the avergae BMI\n",
    "average_BMI=df[\"BMI\"].mean()\n",
    "\n",
    "#Displaying the DataFrame with the BMI column & the average BMI\n",
    "print(df)\n",
    "print(\"\\nAverage BMI:{:.2f}\".format(average_bmi))"
   ]
  }
 ],
 "metadata": {
  "kernelspec": {
   "display_name": "Python 3",
   "language": "python",
   "name": "python3"
  },
  "language_info": {
   "codemirror_mode": {
    "name": "ipython",
    "version": 3
   },
   "file_extension": ".py",
   "mimetype": "text/x-python",
   "name": "python",
   "nbconvert_exporter": "python",
   "pygments_lexer": "ipython3",
   "version": "3.8.8"
  }
 },
 "nbformat": 4,
 "nbformat_minor": 5
}
