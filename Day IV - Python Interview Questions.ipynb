{
 "cells": [
  {
   "cell_type": "markdown",
   "id": "7aabc393",
   "metadata": {},
   "source": [
    "## Print the duplicates in the given list"
   ]
  },
  {
   "cell_type": "code",
   "execution_count": 1,
   "id": "38e5cda1",
   "metadata": {},
   "outputs": [
    {
     "name": "stdout",
     "output_type": "stream",
     "text": [
      "[10, 20, 'yu']\n"
     ]
    }
   ],
   "source": [
    "l=[10,20,30,10,50,20,'yu',6,'yu']\n",
    "d=[]\n",
    "for i in l:\n",
    "    if l.count(i)>1 and i not in d:\n",
    "        d.append(i)\n",
    "print(d)"
   ]
  },
  {
   "cell_type": "markdown",
   "id": "313d0830",
   "metadata": {},
   "source": [
    "## Print the duplicates in the given list without using any built-in functions"
   ]
  },
  {
   "cell_type": "code",
   "execution_count": 2,
   "id": "ea55016d",
   "metadata": {},
   "outputs": [
    {
     "name": "stdout",
     "output_type": "stream",
     "text": [
      "[10, 20, 'yu']\n"
     ]
    }
   ],
   "source": [
    "d=[]\n",
    "for i in range(len(l)):\n",
    "    for j in range(i+1,len(l)):\n",
    "        if l[i]==l[j]:\n",
    "            d.append(l[i])\n",
    "print(d)"
   ]
  },
  {
   "cell_type": "markdown",
   "id": "00d6126e",
   "metadata": {},
   "source": [
    "## Patterns"
   ]
  },
  {
   "cell_type": "code",
   "execution_count": 3,
   "id": "277ae76b",
   "metadata": {},
   "outputs": [
    {
     "name": "stdout",
     "output_type": "stream",
     "text": [
      "*************************"
     ]
    }
   ],
   "source": [
    "for j in range(5):\n",
    "    for i in range(5):\n",
    "        print(\"*\",end='')"
   ]
  },
  {
   "cell_type": "markdown",
   "id": "e203f9b8",
   "metadata": {},
   "source": [
    "### Square"
   ]
  },
  {
   "cell_type": "code",
   "execution_count": 4,
   "id": "5cc8ae30",
   "metadata": {},
   "outputs": [
    {
     "name": "stdout",
     "output_type": "stream",
     "text": [
      "* * * * * \n",
      "* * * * * \n",
      "* * * * * \n",
      "* * * * * \n",
      "* * * * * \n"
     ]
    }
   ],
   "source": [
    "# This loop is used for rows \n",
    "for j in range(5):  \n",
    "# This loop is used for columns\n",
    "    for i in range(5): \n",
    "        print('*',end=' ')\n",
    "    print('')"
   ]
  },
  {
   "cell_type": "markdown",
   "id": "9286d14f",
   "metadata": {},
   "source": [
    "### Increasing Triangle "
   ]
  },
  {
   "cell_type": "code",
   "execution_count": 5,
   "id": "1148f757",
   "metadata": {},
   "outputs": [
    {
     "name": "stdout",
     "output_type": "stream",
     "text": [
      "* \n",
      "* * \n",
      "* * * \n",
      "* * * * \n",
      "* * * * * \n"
     ]
    }
   ],
   "source": [
    "for j in range(5):\n",
    "    for i in range(j+1):\n",
    "        print('*',end=' ')\n",
    "    print('')"
   ]
  },
  {
   "cell_type": "markdown",
   "id": "bb3b9412",
   "metadata": {},
   "source": [
    "### Decreasing Triangle"
   ]
  },
  {
   "cell_type": "code",
   "execution_count": 6,
   "id": "e5ad39ee",
   "metadata": {},
   "outputs": [
    {
     "name": "stdout",
     "output_type": "stream",
     "text": [
      "* * * * * \n",
      "* * * * \n",
      "* * * \n",
      "* * \n",
      "* \n"
     ]
    }
   ],
   "source": [
    "for j in range(5):\n",
    "    for i in range(j,5):\n",
    "        print('*',end=' ')\n",
    "    print('')"
   ]
  },
  {
   "cell_type": "markdown",
   "id": "abda3d02",
   "metadata": {},
   "source": [
    "### Rignt-Angled Triangle"
   ]
  },
  {
   "cell_type": "code",
   "execution_count": 7,
   "id": "2c80a071",
   "metadata": {},
   "outputs": [
    {
     "name": "stdout",
     "output_type": "stream",
     "text": [
      "          # \n",
      "        # # \n",
      "      # # # \n",
      "    # # # # \n",
      "  # # # # # \n"
     ]
    }
   ],
   "source": [
    "n=5\n",
    "for i in range(n):\n",
    "    for j in range(i,n):\n",
    "        print(' ',end=' ')\n",
    "        \n",
    "    for j in range(i+1):\n",
    "        print('#',end=' ')\n",
    "    print('')"
   ]
  },
  {
   "cell_type": "code",
   "execution_count": 8,
   "id": "f58ee485",
   "metadata": {},
   "outputs": [
    {
     "name": "stdout",
     "output_type": "stream",
     "text": [
      "  # # # # # \n",
      "    # # # # \n",
      "      # # # \n",
      "        # # \n",
      "          # \n"
     ]
    }
   ],
   "source": [
    "n=5\n",
    "for i in range(n):\n",
    "    for j in range(i+1):\n",
    "        print(' ',end=' ')\n",
    "        \n",
    "    for j in range(i,n):\n",
    "        print('#',end=' ')\n",
    "    print('')"
   ]
  },
  {
   "cell_type": "markdown",
   "id": "6e3faa28",
   "metadata": {},
   "source": [
    "### Hill Pattern"
   ]
  },
  {
   "cell_type": "code",
   "execution_count": 9,
   "id": "2b1e7356",
   "metadata": {},
   "outputs": [
    {
     "name": "stdout",
     "output_type": "stream",
     "text": [
      "          # \n",
      "        # # # \n",
      "      # # # # # \n",
      "    # # # # # # # \n",
      "  # # # # # # # # # \n"
     ]
    }
   ],
   "source": [
    "n=5\n",
    "for i in range(n):\n",
    "    for j in range(i,n):\n",
    "        print(' ',end=' ')\n",
    "    \n",
    "    for j in range (i+1):\n",
    "        print('#',end=' ')\n",
    "        \n",
    "    for j in range (i):\n",
    "        print('#',end=' ')\n",
    "    print('')"
   ]
  },
  {
   "cell_type": "markdown",
   "id": "ba977a54",
   "metadata": {},
   "source": [
    "### Reverse Hill Pattern"
   ]
  },
  {
   "cell_type": "code",
   "execution_count": 10,
   "id": "094789d6",
   "metadata": {},
   "outputs": [
    {
     "name": "stdout",
     "output_type": "stream",
     "text": [
      "  # # # # # # # # # \n",
      "    # # # # # # # \n",
      "      # # # # # \n",
      "        # # # \n",
      "          # \n"
     ]
    }
   ],
   "source": [
    "n=5\n",
    "for i in range(n):\n",
    "    for j in range(i+1):\n",
    "        print(' ',end=' ')\n",
    "    \n",
    "    for j in range (i,n):\n",
    "        print('#',end=' ')\n",
    "        \n",
    "    for j in range (i,n-1):\n",
    "        print('#',end=' ')\n",
    "    print('')"
   ]
  },
  {
   "cell_type": "markdown",
   "id": "8bdad790",
   "metadata": {},
   "source": [
    "### Rhombus or Diamond Pattern"
   ]
  },
  {
   "cell_type": "code",
   "execution_count": 11,
   "id": "4241799c",
   "metadata": {},
   "outputs": [
    {
     "name": "stdout",
     "output_type": "stream",
     "text": [
      "          # \n",
      "        # # # \n",
      "      # # # # # \n",
      "    # # # # # # # \n",
      "  # # # # # # # # # \n",
      "    # # # # # # # \n",
      "      # # # # # \n",
      "        # # # \n",
      "          # \n"
     ]
    }
   ],
   "source": [
    "n=5\n",
    "for i in range(n-1):\n",
    "    for j in range(i,n):\n",
    "        print(' ',end=' ')\n",
    "    \n",
    "    for j in range (i+1):\n",
    "        print('#',end=' ')\n",
    "        \n",
    "    for j in range (i):\n",
    "        print('#',end=' ')\n",
    "    print('')\n",
    "\n",
    "for i in range(n):\n",
    "    for j in range(i+1):\n",
    "        print(' ',end=' ')\n",
    "    \n",
    "    for j in range (i,n):\n",
    "        print('#',end=' ')\n",
    "        \n",
    "    for j in range (i,n-1):\n",
    "        print('#',end=' ')\n",
    "    print('')"
   ]
  },
  {
   "cell_type": "code",
   "execution_count": 12,
   "id": "13570fc1",
   "metadata": {},
   "outputs": [
    {
     "name": "stdout",
     "output_type": "stream",
     "text": [
      "5555\n",
      "4444\n",
      "3333\n",
      "2222\n"
     ]
    }
   ],
   "source": [
    "for i in range(5,1,-1):\n",
    "    for j in range(5,1,-1):\n",
    "        print(i,end='')\n",
    "    print('')"
   ]
  },
  {
   "cell_type": "markdown",
   "id": "fe8ee7cf",
   "metadata": {},
   "source": [
    "## Write a program to check value is type list"
   ]
  },
  {
   "cell_type": "code",
   "execution_count": 13,
   "id": "aa1f3770",
   "metadata": {},
   "outputs": [
    {
     "name": "stdout",
     "output_type": "stream",
     "text": [
      "3\n"
     ]
    }
   ],
   "source": [
    "data={'jay' : ['male',2000], 'kiran' : 'male', 'vijay' : ['male',1998], 'sanskriti' : ['female',2001]}\n",
    "count=0\n",
    "for i in data:\n",
    "    if isinstance(data[i],list):\n",
    "        count+=1\n",
    "print(count)"
   ]
  },
  {
   "cell_type": "code",
   "execution_count": 14,
   "id": "f8c486d2",
   "metadata": {},
   "outputs": [
    {
     "ename": "TypeError",
     "evalue": "'<' not supported between instances of 'str' and 'range'",
     "output_type": "error",
     "traceback": [
      "\u001b[1;31m---------------------------------------------------------------------------\u001b[0m",
      "\u001b[1;31mTypeError\u001b[0m                                 Traceback (most recent call last)",
      "\u001b[1;32m<ipython-input-14-85974a8c16b4>\u001b[0m in \u001b[0;36m<module>\u001b[1;34m\u001b[0m\n\u001b[0;32m      1\u001b[0m \u001b[0mcount\u001b[0m\u001b[1;33m=\u001b[0m\u001b[1;36m0\u001b[0m\u001b[1;33m\u001b[0m\u001b[1;33m\u001b[0m\u001b[0m\n\u001b[1;32m----> 2\u001b[1;33m \u001b[1;32mwhile\u001b[0m \u001b[0mi\u001b[0m \u001b[1;33m<\u001b[0m \u001b[0mrange\u001b[0m\u001b[1;33m(\u001b[0m\u001b[0mlen\u001b[0m\u001b[1;33m(\u001b[0m\u001b[0mdata\u001b[0m\u001b[1;33m)\u001b[0m\u001b[1;33m)\u001b[0m\u001b[1;33m:\u001b[0m\u001b[1;33m\u001b[0m\u001b[1;33m\u001b[0m\u001b[0m\n\u001b[0m\u001b[0;32m      3\u001b[0m     \u001b[1;32mif\u001b[0m \u001b[0mtype\u001b[0m\u001b[1;33m(\u001b[0m\u001b[0mdata\u001b[0m\u001b[1;33m[\u001b[0m\u001b[0mi\u001b[0m\u001b[1;33m]\u001b[0m\u001b[1;33m)\u001b[0m\u001b[1;33m==\u001b[0m\u001b[0mstr\u001b[0m\u001b[1;33m:\u001b[0m\u001b[1;33m\u001b[0m\u001b[1;33m\u001b[0m\u001b[0m\n\u001b[0;32m      4\u001b[0m         \u001b[0mcount\u001b[0m\u001b[1;33m+=\u001b[0m\u001b[1;36m1\u001b[0m\u001b[1;33m\u001b[0m\u001b[1;33m\u001b[0m\u001b[0m\n\u001b[0;32m      5\u001b[0m         \u001b[0mi\u001b[0m\u001b[1;33m+=\u001b[0m\u001b[1;36m1\u001b[0m\u001b[1;33m\u001b[0m\u001b[1;33m\u001b[0m\u001b[0m\n",
      "\u001b[1;31mTypeError\u001b[0m: '<' not supported between instances of 'str' and 'range'"
     ]
    }
   ],
   "source": [
    "count=0\n",
    "while i < range(len(data)):\n",
    "    if type(data[i])==str:\n",
    "        count+=1\n",
    "        i+=1\n",
    "print(i)"
   ]
  },
  {
   "cell_type": "code",
   "execution_count": 15,
   "id": "8c35f91f",
   "metadata": {},
   "outputs": [
    {
     "ename": "KeyError",
     "evalue": "1",
     "output_type": "error",
     "traceback": [
      "\u001b[1;31m---------------------------------------------------------------------------\u001b[0m",
      "\u001b[1;31mKeyError\u001b[0m                                  Traceback (most recent call last)",
      "\u001b[1;32m<ipython-input-15-c402bf503b75>\u001b[0m in \u001b[0;36m<module>\u001b[1;34m\u001b[0m\n\u001b[1;32m----> 1\u001b[1;33m \u001b[0mdata\u001b[0m\u001b[1;33m[\u001b[0m\u001b[1;36m1\u001b[0m\u001b[1;33m]\u001b[0m\u001b[1;33m\u001b[0m\u001b[1;33m\u001b[0m\u001b[0m\n\u001b[0m",
      "\u001b[1;31mKeyError\u001b[0m: 1"
     ]
    }
   ],
   "source": [
    "data[1]"
   ]
  },
  {
   "cell_type": "code",
   "execution_count": 16,
   "id": "b13fd08f",
   "metadata": {},
   "outputs": [
    {
     "data": {
      "text/plain": [
       "dict_values([['male', 2000], 'male', ['male', 1998], ['female', 2001]])"
      ]
     },
     "execution_count": 16,
     "metadata": {},
     "output_type": "execute_result"
    }
   ],
   "source": [
    "data.values()"
   ]
  },
  {
   "cell_type": "code",
   "execution_count": 17,
   "id": "54d92e8a",
   "metadata": {},
   "outputs": [
    {
     "ename": "AttributeError",
     "evalue": "'dict' object has no attribute 'iloc'",
     "output_type": "error",
     "traceback": [
      "\u001b[1;31m---------------------------------------------------------------------------\u001b[0m",
      "\u001b[1;31mAttributeError\u001b[0m                            Traceback (most recent call last)",
      "\u001b[1;32m<ipython-input-17-51f66582218b>\u001b[0m in \u001b[0;36m<module>\u001b[1;34m\u001b[0m\n\u001b[1;32m----> 1\u001b[1;33m \u001b[0mdata\u001b[0m\u001b[1;33m.\u001b[0m\u001b[0miloc\u001b[0m\u001b[1;33m[\u001b[0m\u001b[1;36m2\u001b[0m\u001b[1;33m]\u001b[0m\u001b[1;33m\u001b[0m\u001b[1;33m\u001b[0m\u001b[0m\n\u001b[0m",
      "\u001b[1;31mAttributeError\u001b[0m: 'dict' object has no attribute 'iloc'"
     ]
    }
   ],
   "source": [
    "data.iloc[2]"
   ]
  },
  {
   "cell_type": "code",
   "execution_count": 18,
   "id": "727dbeb2",
   "metadata": {},
   "outputs": [
    {
     "data": {
      "text/plain": [
       "['male', 2000]"
      ]
     },
     "execution_count": 18,
     "metadata": {},
     "output_type": "execute_result"
    }
   ],
   "source": [
    "data[\"jay\"]"
   ]
  },
  {
   "cell_type": "code",
   "execution_count": 19,
   "id": "3ac20775",
   "metadata": {},
   "outputs": [
    {
     "data": {
      "text/plain": [
       "[('jay', ['male', 2000]),\n",
       " ('kiran', 'male'),\n",
       " ('vijay', ['male', 1998]),\n",
       " ('sanskriti', ['female', 2001])]"
      ]
     },
     "execution_count": 19,
     "metadata": {},
     "output_type": "execute_result"
    }
   ],
   "source": [
    "dataitems=list(data.items())\n",
    "dataitems"
   ]
  },
  {
   "cell_type": "code",
   "execution_count": 20,
   "id": "76f32421",
   "metadata": {},
   "outputs": [
    {
     "data": {
      "text/plain": [
       "list"
      ]
     },
     "execution_count": 20,
     "metadata": {},
     "output_type": "execute_result"
    }
   ],
   "source": [
    "type(dataitems[0][1])"
   ]
  },
  {
   "cell_type": "code",
   "execution_count": 21,
   "id": "8c67f2f9",
   "metadata": {},
   "outputs": [
    {
     "data": {
      "text/plain": [
       "2"
      ]
     },
     "execution_count": 21,
     "metadata": {},
     "output_type": "execute_result"
    }
   ],
   "source": [
    "len(dataitems[1])"
   ]
  },
  {
   "cell_type": "markdown",
   "id": "b4665a21",
   "metadata": {},
   "source": [
    "### Without using is-instance function"
   ]
  },
  {
   "cell_type": "code",
   "execution_count": 22,
   "id": "2e9c25cc",
   "metadata": {},
   "outputs": [
    {
     "name": "stdout",
     "output_type": "stream",
     "text": [
      "4\n"
     ]
    }
   ],
   "source": [
    "count=0\n",
    "for i in range(len(dataitems)):\n",
    "    if type(dataitems[i][1]==list):\n",
    "        count+=1\n",
    "print(count)"
   ]
  },
  {
   "cell_type": "markdown",
   "id": "0c0c1aac",
   "metadata": {},
   "source": [
    "## Recursive Functions"
   ]
  },
  {
   "cell_type": "markdown",
   "id": "ef50c27c",
   "metadata": {},
   "source": [
    "### Factorial with Recursive Functions"
   ]
  },
  {
   "cell_type": "code",
   "execution_count": 23,
   "id": "8ede0295",
   "metadata": {},
   "outputs": [
    {
     "name": "stdout",
     "output_type": "stream",
     "text": [
      "120\n"
     ]
    }
   ],
   "source": [
    "def factorial(n):\n",
    "    if n==1:\n",
    "        return 1\n",
    "    else:\n",
    "        return (n*factorial(n-1))\n",
    "    \n",
    "print(factorial(5))"
   ]
  },
  {
   "cell_type": "markdown",
   "id": "42334f23",
   "metadata": {},
   "source": [
    "### Factorial without Recursive Functions"
   ]
  },
  {
   "cell_type": "code",
   "execution_count": 24,
   "id": "fd5b3847",
   "metadata": {},
   "outputs": [
    {
     "name": "stdout",
     "output_type": "stream",
     "text": [
      "Enter a number :16\n",
      "16 ! = 20922789888000\n"
     ]
    }
   ],
   "source": [
    "num=int(input(\"Enter a number :\"))\n",
    "factorial=1\n",
    "\n",
    "for i in range(1,num+1):\n",
    "    factorial=factorial*i\n",
    "print(num,\"!\",\"=\",factorial)"
   ]
  },
  {
   "cell_type": "markdown",
   "id": "22efe6ed",
   "metadata": {},
   "source": [
    "### Finding Prime Numbers"
   ]
  },
  {
   "cell_type": "code",
   "execution_count": 25,
   "id": "3d756ae6",
   "metadata": {},
   "outputs": [
    {
     "name": "stdout",
     "output_type": "stream",
     "text": [
      "[2, 3, 5, 7, 11, 13, 17, 19]\n",
      "77\n"
     ]
    }
   ],
   "source": [
    "prime=[]\n",
    "for i in range(2,20):\n",
    "    c=0\n",
    "    for j in range(1,i):\n",
    "        if i%j==0:\n",
    "            c+=1\n",
    "    if c==1:\n",
    "        prime.append(i)\n",
    "print(prime)\n",
    "print(sum(prime))"
   ]
  },
  {
   "cell_type": "markdown",
   "id": "b702f195",
   "metadata": {},
   "source": [
    "### Checking if a given number is a Prime Number or not"
   ]
  },
  {
   "cell_type": "code",
   "execution_count": 26,
   "id": "6a73813e",
   "metadata": {},
   "outputs": [
    {
     "name": "stdout",
     "output_type": "stream",
     "text": [
      "Enter a number:19\n",
      "Prime Number\n"
     ]
    }
   ],
   "source": [
    "n=int(input(\"Enter a number:\"))\n",
    "for i in range(2,n):\n",
    "    if n%i==0:\n",
    "        print(\"Not a prime number\")\n",
    "        break\n",
    "    else:\n",
    "        print(\"Prime Number\")\n",
    "        break"
   ]
  },
  {
   "cell_type": "markdown",
   "id": "ad6c775d",
   "metadata": {},
   "source": [
    "### Palindrome"
   ]
  },
  {
   "cell_type": "code",
   "execution_count": 27,
   "id": "2ea9dd09",
   "metadata": {},
   "outputs": [
    {
     "name": "stdout",
     "output_type": "stream",
     "text": [
      "racecar\n",
      "Palindrome\n"
     ]
    }
   ],
   "source": [
    "s=input()\n",
    "if s==s[::-1]:\n",
    "    print(\"Palindrome\")\n",
    "else:\n",
    "    print(\"Not a Palindrome\")"
   ]
  },
  {
   "cell_type": "markdown",
   "id": "c1d72999",
   "metadata": {},
   "source": [
    "### Write a given string in reverse order"
   ]
  },
  {
   "cell_type": "code",
   "execution_count": 28,
   "id": "e7990396",
   "metadata": {},
   "outputs": [
    {
     "name": "stdout",
     "output_type": "stream",
     "text": [
      "Hira Fatima\n",
      "['Hira', 'Fatima']\n",
      "['Fatima', 'Hira']\n",
      "Fatima Hira\n"
     ]
    }
   ],
   "source": [
    "str1=input()\n",
    "list1=str1.split(' ')\n",
    "print(list1)\n",
    "list2=list1[::-1]\n",
    "print(list2)\n",
    "str2=' '.join(list2)\n",
    "print(str2)"
   ]
  },
  {
   "cell_type": "markdown",
   "id": "b5687c59",
   "metadata": {},
   "source": [
    "### Write unique values from the list"
   ]
  },
  {
   "cell_type": "code",
   "execution_count": 29,
   "id": "4c130792",
   "metadata": {},
   "outputs": [
    {
     "name": "stdout",
     "output_type": "stream",
     "text": [
      "[1, 4]\n"
     ]
    }
   ],
   "source": [
    "my_list=[1,2,2,2,3,3,4,5,5,6,6]\n",
    "new_list=[]\n",
    "for i in my_list:\n",
    "    if my_list.count(i)==1:\n",
    "        new_list.append(i)\n",
    "        \n",
    "print(new_list)"
   ]
  },
  {
   "cell_type": "markdown",
   "id": "6c5988a0",
   "metadata": {},
   "source": [
    "#### Using List Comprehension"
   ]
  },
  {
   "cell_type": "code",
   "execution_count": 30,
   "id": "785781f8",
   "metadata": {},
   "outputs": [
    {
     "data": {
      "text/plain": [
       "[1, 4]"
      ]
     },
     "execution_count": 30,
     "metadata": {},
     "output_type": "execute_result"
    }
   ],
   "source": [
    "[i for i in my_list if my_list.count(i)==1]"
   ]
  },
  {
   "cell_type": "markdown",
   "id": "89e6a9a1",
   "metadata": {},
   "source": [
    "### Count the occurences of each element"
   ]
  },
  {
   "cell_type": "code",
   "execution_count": 31,
   "id": "6d2bb1c1",
   "metadata": {},
   "outputs": [
    {
     "name": "stdout",
     "output_type": "stream",
     "text": [
      "a:3,b:2,c:3\n"
     ]
    }
   ],
   "source": [
    "str1=\"a,a,a,b,b,c,c,c\"\n",
    "list1=str1.split(',')\n",
    "count_ele=[]\n",
    "\n",
    "str_ele=[]\n",
    "for ch in list1:\n",
    "    if not ch in str_ele:\n",
    "        count_ele.append(f\"{ch}:{list1.count(ch)}\")\n",
    "        str_ele.append(ch)\n",
    "print(\",\".join(count_ele))"
   ]
  },
  {
   "cell_type": "markdown",
   "id": "331ec862",
   "metadata": {},
   "source": [
    "## Lambda Functions"
   ]
  },
  {
   "cell_type": "code",
   "execution_count": 32,
   "id": "d419dc30",
   "metadata": {},
   "outputs": [
    {
     "name": "stdout",
     "output_type": "stream",
     "text": [
      "[[6, 8], [23, 67], [90, 4]]\n",
      "[2, 6, 8, 9, 10, 14, 23]\n"
     ]
    }
   ],
   "source": [
    "b=[[6,8],[90,4],[23,67]]\n",
    "c=[2,8,6,9,10,23,14]\n",
    "b.sort(key=lambda x:x[0])\n",
    "print(b)\n",
    "print(sorted(c))"
   ]
  },
  {
   "cell_type": "code",
   "execution_count": 33,
   "id": "c92ae90c",
   "metadata": {},
   "outputs": [
    {
     "name": "stdout",
     "output_type": "stream",
     "text": [
      "How many numbers :4\n",
      "45\n",
      "46\n",
      "47\n",
      "48\n",
      "46.5\n"
     ]
    }
   ],
   "source": [
    "try:\n",
    "    n=int(input(\"How many numbers :\"))\n",
    "except:\n",
    "    print(\" Please Enter number\")\n",
    "else:\n",
    "    list_num=[]\n",
    "    try:\n",
    "        for i in range(n):\n",
    "            num=int(input())\n",
    "            list_num.append(num)\n",
    "        mean= lambda x: sum(x)/len(x)\n",
    "        print(mean(list_num))\n",
    "    except:\n",
    "        print(\"Some Error Occured\")"
   ]
  },
  {
   "cell_type": "code",
   "execution_count": 34,
   "id": "e147e0ea",
   "metadata": {},
   "outputs": [
    {
     "data": {
      "text/plain": [
       "60"
      ]
     },
     "execution_count": 34,
     "metadata": {},
     "output_type": "execute_result"
    }
   ],
   "source": [
    "2+5+3+6+44"
   ]
  },
  {
   "cell_type": "code",
   "execution_count": 35,
   "id": "e4db928a",
   "metadata": {},
   "outputs": [
    {
     "data": {
      "text/plain": [
       "4.0"
      ]
     },
     "execution_count": 35,
     "metadata": {},
     "output_type": "execute_result"
    }
   ],
   "source": [
    "20/5"
   ]
  },
  {
   "cell_type": "markdown",
   "id": "b21408bf",
   "metadata": {},
   "source": [
    "## Number Patterns"
   ]
  },
  {
   "cell_type": "markdown",
   "id": "b519e53e",
   "metadata": {},
   "source": [
    "### Increasing Triangle with Increasing Numbers"
   ]
  },
  {
   "cell_type": "code",
   "execution_count": 36,
   "id": "e8c8134a",
   "metadata": {},
   "outputs": [
    {
     "name": "stdout",
     "output_type": "stream",
     "text": [
      "1 \n",
      "2 2 \n",
      "3 3 3 \n",
      "4 4 4 4 \n",
      "5 5 5 5 5 \n"
     ]
    }
   ],
   "source": [
    "n=5\n",
    "p=1\n",
    "for i in range(n):\n",
    "    for j in range(i+1):\n",
    "        print(p,end=' ')\n",
    "    p+=1\n",
    "    print()"
   ]
  },
  {
   "cell_type": "markdown",
   "id": "35971e11",
   "metadata": {},
   "source": [
    "### Increasing Triangle with Decreasing Numbers"
   ]
  },
  {
   "cell_type": "code",
   "execution_count": 37,
   "id": "c825b6b8",
   "metadata": {},
   "outputs": [
    {
     "name": "stdout",
     "output_type": "stream",
     "text": [
      "5 \n",
      "4 4 \n",
      "3 3 3 \n",
      "2 2 2 2 \n",
      "1 1 1 1 1 \n"
     ]
    }
   ],
   "source": [
    "n=5\n",
    "p=n\n",
    "for i in range(n):\n",
    "    for j in range(i+1):\n",
    "        print(p,end=' ')\n",
    "    p-=1\n",
    "    print()"
   ]
  },
  {
   "cell_type": "markdown",
   "id": "73ca1507",
   "metadata": {},
   "source": [
    "### Increasing Triangle with Even Numbers"
   ]
  },
  {
   "cell_type": "code",
   "execution_count": 38,
   "id": "b33d02ec",
   "metadata": {},
   "outputs": [
    {
     "name": "stdout",
     "output_type": "stream",
     "text": [
      "0 \n",
      "2 2 \n",
      "4 4 4 \n",
      "6 6 6 6 \n",
      "8 8 8 8 8 \n"
     ]
    }
   ],
   "source": [
    "n=5\n",
    "p=0\n",
    "for i in range(n):\n",
    "    for j in range(i+1):\n",
    "        print(p,end=' ')\n",
    "    p+=2\n",
    "    print()"
   ]
  },
  {
   "cell_type": "markdown",
   "id": "619a6e86",
   "metadata": {},
   "source": [
    "### Not-Increasing Triangle with Even Numbers"
   ]
  },
  {
   "cell_type": "code",
   "execution_count": 39,
   "id": "6ec0f551",
   "metadata": {},
   "outputs": [
    {
     "name": "stdout",
     "output_type": "stream",
     "text": [
      "1 \n",
      "2 2 \n",
      "1 1 1 \n",
      "2 2 2 2 \n",
      "1 1 1 1 1 \n"
     ]
    }
   ],
   "source": [
    "n=5\n",
    "for i in range(n):\n",
    "    for j in range(i+1):\n",
    "        if (i%2)==0:\n",
    "            print(1,end=' ')\n",
    "        else:\n",
    "            print(2,end=' ')\n",
    "    print()"
   ]
  },
  {
   "cell_type": "markdown",
   "id": "d8aea365",
   "metadata": {},
   "source": [
    "### Increasing Rhombus or Diamond Pattern"
   ]
  },
  {
   "cell_type": "code",
   "execution_count": 40,
   "id": "217c4b5a",
   "metadata": {},
   "outputs": [
    {
     "name": "stdout",
     "output_type": "stream",
     "text": [
      "          1 \n",
      "        2 2 2 \n",
      "      3 3 3 3 3 \n",
      "    4 4 4 4 4 4 4 \n",
      "  5 5 5 5 5 5 5 5 5 \n",
      "  6 6 6 6 6 6 6 6 6 \n",
      "    7 7 7 7 7 7 7 \n",
      "      8 8 8 8 8 \n",
      "        9 9 9 \n",
      "          10 \n"
     ]
    }
   ],
   "source": [
    "n=5\n",
    "p=1\n",
    "for i in range(n):\n",
    "    for j in range(i,n):\n",
    "        print(' ',end=' ')\n",
    "        \n",
    "    for j in range(i+1):\n",
    "        print(p,end=' ')\n",
    "    \n",
    "    for j in range(i):\n",
    "        print(p,end=' ')\n",
    "    p+=1\n",
    "    print()\n",
    "    \n",
    "for i in range(n):\n",
    "    for j in range(i+1):\n",
    "        print(' ',end=' ')\n",
    "        \n",
    "    for j in range(i,n):\n",
    "        print(p,end=' ')\n",
    "    \n",
    "    for j in range(i,n-1):\n",
    "        print(p,end=' ')\n",
    "    p+=1\n",
    "    print()"
   ]
  },
  {
   "cell_type": "markdown",
   "id": "5d00001a",
   "metadata": {},
   "source": [
    "### Not-Increasing Rhombus or Diamond Pattern"
   ]
  },
  {
   "cell_type": "code",
   "execution_count": 41,
   "id": "28c56862",
   "metadata": {},
   "outputs": [
    {
     "name": "stdout",
     "output_type": "stream",
     "text": [
      "          1 \n",
      "        2 2 2 \n",
      "      3 3 3 3 3 \n",
      "    4 4 4 4 4 4 4 \n",
      "  5 5 5 5 5 5 5 5 5 \n",
      "    4 4 4 4 4 4 4 \n",
      "      3 3 3 3 3 \n",
      "        2 2 2 \n",
      "          1 \n"
     ]
    }
   ],
   "source": [
    "n=5\n",
    "p=1\n",
    "for i in range(n-1):\n",
    "    for j in range(i,n):\n",
    "        print(' ',end=' ')\n",
    "        \n",
    "    for j in range(i+1):\n",
    "        print(p,end=' ')\n",
    "    \n",
    "    for j in range(i):\n",
    "        print(p,end=' ')\n",
    "    p+=1\n",
    "    print()\n",
    "    \n",
    "for i in range(n):\n",
    "    for j in range(i+1):\n",
    "        print(' ',end=' ')\n",
    "        \n",
    "    for j in range(i,n):\n",
    "        print(p,end=' ')\n",
    "    \n",
    "    for j in range(i,n-1):\n",
    "        print(p,end=' ')\n",
    "    p-=1\n",
    "    print()"
   ]
  },
  {
   "cell_type": "markdown",
   "id": "a2ed9a09",
   "metadata": {},
   "source": [
    "### Increasing Triangle with Increasing Numbers"
   ]
  },
  {
   "cell_type": "code",
   "execution_count": 42,
   "id": "719cffbf",
   "metadata": {},
   "outputs": [
    {
     "name": "stdout",
     "output_type": "stream",
     "text": [
      "1 \n",
      "1 2 \n",
      "1 2 3 \n",
      "1 2 3 4 \n",
      "1 2 3 4 5 \n"
     ]
    }
   ],
   "source": [
    "n=5\n",
    "for i in range(n):\n",
    "    p=1\n",
    "    for j in range(i+1):\n",
    "        print(p,end=' ')\n",
    "        p+=1\n",
    "    print()"
   ]
  },
  {
   "cell_type": "markdown",
   "id": "1f2acd12",
   "metadata": {},
   "source": [
    "### Decreasing Triangle with Increasing Numbers"
   ]
  },
  {
   "cell_type": "code",
   "execution_count": 43,
   "id": "a10c7a56",
   "metadata": {},
   "outputs": [
    {
     "name": "stdout",
     "output_type": "stream",
     "text": [
      "  1 2 3 4 5 \n",
      "    1 2 3 4 \n",
      "      1 2 3 \n",
      "        1 2 \n",
      "          1 \n"
     ]
    }
   ],
   "source": [
    "n=5\n",
    "for i in range(n):\n",
    "    for j in range(i+1):\n",
    "        print(' ',end=' ')\n",
    "    p=1\n",
    "    for j in range(i,n):\n",
    "        print(p,end=' ')\n",
    "        p+=1\n",
    "    print( )"
   ]
  },
  {
   "cell_type": "markdown",
   "id": "de9c4ef3",
   "metadata": {},
   "source": [
    "### Hill Pattern"
   ]
  },
  {
   "cell_type": "code",
   "execution_count": 44,
   "id": "06d5e1fc",
   "metadata": {},
   "outputs": [
    {
     "name": "stdout",
     "output_type": "stream",
     "text": [
      "          1 \n",
      "        1 2 3 \n",
      "      1 2 3 4 5 \n",
      "    1 2 3 4 5 6 7 \n",
      "  1 2 3 4 5 6 7 8 9 \n"
     ]
    }
   ],
   "source": [
    "n=5\n",
    "for i in range(n):\n",
    "    for j in range(i,n):\n",
    "        print(' ',end=' ')\n",
    "    p=1    \n",
    "    for j in range(i+1):\n",
    "        print(p,end=' ')\n",
    "        p+=1\n",
    "    for j in range(i):\n",
    "        print(p,end=' ')\n",
    "        p+=1\n",
    "    print()"
   ]
  },
  {
   "cell_type": "code",
   "execution_count": 45,
   "id": "df262838",
   "metadata": {},
   "outputs": [
    {
     "name": "stdout",
     "output_type": "stream",
     "text": [
      "5 \n",
      "5 4 \n",
      "5 4 3 \n",
      "5 4 3 2 \n",
      "5 4 3 2 1 \n"
     ]
    }
   ],
   "source": [
    "n=5\n",
    "for i in range(n):\n",
    "    p=n\n",
    "    for j in range(i+1):\n",
    "        print(p,end=' ')\n",
    "        p-=1\n",
    "    print( )"
   ]
  },
  {
   "cell_type": "code",
   "execution_count": 46,
   "id": "d73a1477",
   "metadata": {},
   "outputs": [
    {
     "name": "stdout",
     "output_type": "stream",
     "text": [
      "  5 4 3 2 1 \n",
      "    5 4 3 2 \n",
      "      5 4 3 \n",
      "        5 4 \n",
      "          5 \n"
     ]
    }
   ],
   "source": [
    "n=5\n",
    "for i in range(n):\n",
    "    for j in range(i+1):\n",
    "        print(' ',end=' ')\n",
    "    p=n\n",
    "    for j in range(i,n):\n",
    "        print(p,end=' ')\n",
    "        p-=1\n",
    "    print( )"
   ]
  },
  {
   "cell_type": "code",
   "execution_count": 47,
   "id": "137729ca",
   "metadata": {},
   "outputs": [
    {
     "name": "stdout",
     "output_type": "stream",
     "text": [
      "  5 4 3 2 1 \n",
      "    4 3 2 1 \n",
      "      3 2 1 \n",
      "        2 1 \n",
      "          1 \n"
     ]
    }
   ],
   "source": [
    "n=5\n",
    "k=n\n",
    "for i in range(n):\n",
    "    p=k\n",
    "    for j in range(i+1):\n",
    "        print(' ',end=' ')\n",
    "    for j in range(i,n):\n",
    "        print(p,end=' ')\n",
    "        p-=1\n",
    "    k-=1\n",
    "    print( )"
   ]
  },
  {
   "cell_type": "code",
   "execution_count": 48,
   "id": "4e6e5515",
   "metadata": {},
   "outputs": [
    {
     "name": "stdout",
     "output_type": "stream",
     "text": [
      "          1 \n",
      "        1 2 1 \n",
      "      1 2 3 2 1 \n",
      "    1 2 3 4 3 2 1 \n",
      "  1 2 3 4 5 4 3 2 1 \n"
     ]
    }
   ],
   "source": [
    "n=5\n",
    "for i in range(n):\n",
    "    for j in range(i,n):\n",
    "        print(' ',end=' ')\n",
    "    p=1    \n",
    "    for j in range(i):\n",
    "        print(p,end=' ')\n",
    "        p+=1\n",
    "    for j in range(i+1):\n",
    "        print(p,end=' ')\n",
    "        p-=1\n",
    "    print()"
   ]
  },
  {
   "cell_type": "code",
   "execution_count": 49,
   "id": "f83fa3d6",
   "metadata": {},
   "outputs": [
    {
     "name": "stdout",
     "output_type": "stream",
     "text": [
      "1 \n",
      "2 3 \n",
      "4 5 6 \n",
      "7 8 9 10 \n",
      "11 12 13 14 15 \n"
     ]
    }
   ],
   "source": [
    "n=5\n",
    "p=1\n",
    "for i in range(n):\n",
    "    for j in range(i+1):\n",
    "        print(p,end=' ')\n",
    "        p+=1\n",
    "    print( )"
   ]
  },
  {
   "cell_type": "markdown",
   "id": "003a086c",
   "metadata": {},
   "source": [
    "## Create a function to capitalize the first letters of first names and last names"
   ]
  },
  {
   "cell_type": "markdown",
   "id": "7f219511",
   "metadata": {},
   "source": [
    "### Using built-in functions"
   ]
  },
  {
   "cell_type": "code",
   "execution_count": 50,
   "id": "04268d24",
   "metadata": {},
   "outputs": [
    {
     "name": "stdout",
     "output_type": "stream",
     "text": [
      "Hirafatima\n"
     ]
    }
   ],
   "source": [
    "x=\"hirafatima\"\n",
    "print(x.capitalize())"
   ]
  },
  {
   "cell_type": "code",
   "execution_count": 51,
   "id": "50006804",
   "metadata": {},
   "outputs": [
    {
     "name": "stdout",
     "output_type": "stream",
     "text": [
      "Hira Fatima\n"
     ]
    }
   ],
   "source": [
    "x=\"hira fatima\"\n",
    "print(x.title())"
   ]
  },
  {
   "cell_type": "markdown",
   "id": "da019187",
   "metadata": {},
   "source": [
    "### Without using any built-in functions"
   ]
  },
  {
   "cell_type": "code",
   "execution_count": 52,
   "id": "f049248d",
   "metadata": {},
   "outputs": [],
   "source": [
    "def cap_name(x):\n",
    "    a=x.split(' ')\n",
    "    b=[ ]\n",
    "    for i in range(len(a)):\n",
    "        b.append(a[i].capitalize())\n",
    "    return (' ').join(b)  \n",
    "# in the above line space between the inverted commas is necessary otherwise the otput will concatenate the names together"
   ]
  },
  {
   "cell_type": "code",
   "execution_count": 53,
   "id": "19ea09c5",
   "metadata": {},
   "outputs": [
    {
     "name": "stdout",
     "output_type": "stream",
     "text": [
      "Hira Fatima\n"
     ]
    }
   ],
   "source": [
    "print(cap_name('hira fatima'))"
   ]
  },
  {
   "cell_type": "markdown",
   "id": "2870714b",
   "metadata": {},
   "source": [
    "### Applying it on a dataset"
   ]
  },
  {
   "cell_type": "code",
   "execution_count": 54,
   "id": "58235f81",
   "metadata": {},
   "outputs": [],
   "source": [
    "import pandas as pd "
   ]
  },
  {
   "cell_type": "code",
   "execution_count": 55,
   "id": "589fccac",
   "metadata": {},
   "outputs": [],
   "source": [
    "data={'Name' : ['hira f','akshara b','madiha a','sangeetha r'],\n",
    "      'Age' : [21,21,21,21]}"
   ]
  },
  {
   "cell_type": "code",
   "execution_count": 56,
   "id": "9d2d1119",
   "metadata": {},
   "outputs": [],
   "source": [
    "df=pd.DataFrame(data)"
   ]
  },
  {
   "cell_type": "code",
   "execution_count": 57,
   "id": "52ee84a0",
   "metadata": {},
   "outputs": [
    {
     "data": {
      "text/plain": [
       "pandas.core.series.Series"
      ]
     },
     "execution_count": 57,
     "metadata": {},
     "output_type": "execute_result"
    }
   ],
   "source": [
    "type(df['Name'])"
   ]
  },
  {
   "cell_type": "code",
   "execution_count": 58,
   "id": "32c0d99f",
   "metadata": {},
   "outputs": [
    {
     "name": "stdout",
     "output_type": "stream",
     "text": [
      "Hira F\n"
     ]
    }
   ],
   "source": [
    "print(cap_name(df['Name'][0]))"
   ]
  },
  {
   "cell_type": "code",
   "execution_count": 59,
   "id": "d6c02f2e",
   "metadata": {},
   "outputs": [
    {
     "name": "stdout",
     "output_type": "stream",
     "text": [
      "Hira F\n",
      "Akshara B\n",
      "Madiha A\n",
      "Sangeetha R\n"
     ]
    }
   ],
   "source": [
    "for i in range(len(df['Name'])):\n",
    "    print(cap_name(df['Name'][i]))"
   ]
  },
  {
   "cell_type": "code",
   "execution_count": 60,
   "id": "0a02f2e5",
   "metadata": {},
   "outputs": [
    {
     "name": "stdout",
     "output_type": "stream",
     "text": [
      "['Hira F', 'Akshara B', 'Madiha A', 'Sangeetha R']\n"
     ]
    }
   ],
   "source": [
    "# to get it in the form of a list\n",
    "\n",
    "namelist=[]\n",
    "for i in range(len(df['Name'])):\n",
    "    namelist.append(cap_name(df['Name'][i]))\n",
    "print(namelist)    "
   ]
  },
  {
   "cell_type": "code",
   "execution_count": 61,
   "id": "c96f48ca",
   "metadata": {},
   "outputs": [
    {
     "data": {
      "text/html": [
       "<div>\n",
       "<style scoped>\n",
       "    .dataframe tbody tr th:only-of-type {\n",
       "        vertical-align: middle;\n",
       "    }\n",
       "\n",
       "    .dataframe tbody tr th {\n",
       "        vertical-align: top;\n",
       "    }\n",
       "\n",
       "    .dataframe thead th {\n",
       "        text-align: right;\n",
       "    }\n",
       "</style>\n",
       "<table border=\"1\" class=\"dataframe\">\n",
       "  <thead>\n",
       "    <tr style=\"text-align: right;\">\n",
       "      <th></th>\n",
       "      <th>Name</th>\n",
       "      <th>Age</th>\n",
       "    </tr>\n",
       "  </thead>\n",
       "  <tbody>\n",
       "    <tr>\n",
       "      <th>0</th>\n",
       "      <td>Hira F</td>\n",
       "      <td>21</td>\n",
       "    </tr>\n",
       "    <tr>\n",
       "      <th>1</th>\n",
       "      <td>Akshara B</td>\n",
       "      <td>21</td>\n",
       "    </tr>\n",
       "    <tr>\n",
       "      <th>2</th>\n",
       "      <td>Madiha A</td>\n",
       "      <td>21</td>\n",
       "    </tr>\n",
       "    <tr>\n",
       "      <th>3</th>\n",
       "      <td>Sangeetha R</td>\n",
       "      <td>21</td>\n",
       "    </tr>\n",
       "  </tbody>\n",
       "</table>\n",
       "</div>"
      ],
      "text/plain": [
       "          Name  Age\n",
       "0       Hira F   21\n",
       "1    Akshara B   21\n",
       "2     Madiha A   21\n",
       "3  Sangeetha R   21"
      ]
     },
     "execution_count": 61,
     "metadata": {},
     "output_type": "execute_result"
    }
   ],
   "source": [
    "df['Name']=[cap_name(df['Name'][i]) for i in range(len(df['Name']))]\n",
    "df['Name']=namelist\n",
    "df"
   ]
  }
 ],
 "metadata": {
  "kernelspec": {
   "display_name": "Python 3",
   "language": "python",
   "name": "python3"
  },
  "language_info": {
   "codemirror_mode": {
    "name": "ipython",
    "version": 3
   },
   "file_extension": ".py",
   "mimetype": "text/x-python",
   "name": "python",
   "nbconvert_exporter": "python",
   "pygments_lexer": "ipython3",
   "version": "3.8.8"
  }
 },
 "nbformat": 4,
 "nbformat_minor": 5
}
