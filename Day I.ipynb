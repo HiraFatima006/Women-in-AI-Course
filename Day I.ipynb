{
 "cells": [
  {
   "cell_type": "markdown",
   "id": "20a391ab",
   "metadata": {},
   "source": [
    "# Basic Functions"
   ]
  },
  {
   "cell_type": "code",
   "execution_count": 1,
   "id": "11132f21",
   "metadata": {},
   "outputs": [
    {
     "data": {
      "text/plain": [
       "11"
      ]
     },
     "execution_count": 1,
     "metadata": {},
     "output_type": "execute_result"
    }
   ],
   "source": [
    "5+6"
   ]
  },
  {
   "cell_type": "code",
   "execution_count": 2,
   "id": "c8c1bed5",
   "metadata": {},
   "outputs": [
    {
     "data": {
      "text/plain": [
       "30"
      ]
     },
     "execution_count": 2,
     "metadata": {},
     "output_type": "execute_result"
    }
   ],
   "source": [
    "5*6"
   ]
  },
  {
   "cell_type": "code",
   "execution_count": 3,
   "id": "c59803f9",
   "metadata": {},
   "outputs": [
    {
     "data": {
      "text/plain": [
       "2"
      ]
     },
     "execution_count": 3,
     "metadata": {},
     "output_type": "execute_result"
    }
   ],
   "source": [
    "6//3"
   ]
  },
  {
   "cell_type": "code",
   "execution_count": 4,
   "id": "f302741a",
   "metadata": {},
   "outputs": [
    {
     "name": "stdout",
     "output_type": "stream",
     "text": [
      "0\n",
      "1\n",
      "2\n",
      "3\n",
      "4\n",
      "5\n",
      "6\n",
      "7\n",
      "8\n",
      "9\n"
     ]
    }
   ],
   "source": [
    "for i in range (10):\n",
    "    print (i)"
   ]
  },
  {
   "cell_type": "code",
   "execution_count": 5,
   "id": "3a410c41",
   "metadata": {},
   "outputs": [
    {
     "name": "stdout",
     "output_type": "stream",
     "text": [
      "2\n",
      "3\n",
      "4\n",
      "5\n",
      "6\n",
      "7\n",
      "8\n",
      "9\n"
     ]
    }
   ],
   "source": [
    "for i in range (2,10):\n",
    "    print (i)"
   ]
  },
  {
   "cell_type": "markdown",
   "id": "a7d95f28",
   "metadata": {},
   "source": [
    "# Using 'for' loop"
   ]
  },
  {
   "cell_type": "code",
   "execution_count": 6,
   "id": "232e7531",
   "metadata": {},
   "outputs": [
    {
     "name": "stdout",
     "output_type": "stream",
     "text": [
      "even\n",
      "odd\n",
      "even\n",
      "odd\n",
      "even\n",
      "odd\n",
      "even\n",
      "odd\n",
      "even\n",
      "odd\n",
      "even\n",
      "odd\n",
      "even\n",
      "odd\n",
      "even\n",
      "odd\n",
      "even\n",
      "odd\n",
      "even\n",
      "odd\n",
      "even\n",
      "odd\n",
      "even\n",
      "odd\n",
      "even\n",
      "odd\n",
      "even\n",
      "odd\n",
      "even\n",
      "odd\n",
      "even\n",
      "odd\n",
      "even\n",
      "odd\n",
      "even\n",
      "odd\n",
      "even\n",
      "odd\n",
      "even\n",
      "odd\n",
      "even\n",
      "odd\n",
      "even\n",
      "odd\n",
      "even\n",
      "odd\n",
      "even\n",
      "odd\n",
      "even\n",
      "odd\n"
     ]
    }
   ],
   "source": [
    "for i in range (50):\n",
    "    if i%2==0:\n",
    "        print(\"even\")\n",
    "    else:\n",
    "        print(\"odd\")      "
   ]
  },
  {
   "cell_type": "code",
   "execution_count": 7,
   "id": "b82b636a",
   "metadata": {},
   "outputs": [
    {
     "name": "stdout",
     "output_type": "stream",
     "text": [
      "0 even\n",
      "1 odd\n",
      "2 even\n",
      "3 odd\n",
      "4 even\n",
      "5 odd\n",
      "6 even\n",
      "7 odd\n",
      "8 even\n",
      "9 odd\n",
      "10 even\n",
      "11 odd\n",
      "12 even\n",
      "13 odd\n",
      "14 even\n",
      "15 odd\n",
      "16 even\n",
      "17 odd\n",
      "18 even\n",
      "19 odd\n",
      "20 even\n",
      "21 odd\n",
      "22 even\n",
      "23 odd\n",
      "24 even\n",
      "25 odd\n",
      "26 even\n",
      "27 odd\n",
      "28 even\n",
      "29 odd\n",
      "30 even\n",
      "31 odd\n",
      "32 even\n",
      "33 odd\n",
      "34 even\n",
      "35 odd\n",
      "36 even\n",
      "37 odd\n",
      "38 even\n",
      "39 odd\n",
      "40 even\n",
      "41 odd\n",
      "42 even\n",
      "43 odd\n",
      "44 even\n",
      "45 odd\n",
      "46 even\n",
      "47 odd\n",
      "48 even\n",
      "49 odd\n"
     ]
    }
   ],
   "source": [
    "for i in range (50):\n",
    "    if i%2==0:\n",
    "        print(i,\"even\")\n",
    "    else:\n",
    "        print(i,\"odd\")      "
   ]
  },
  {
   "cell_type": "markdown",
   "id": "f8a325a2",
   "metadata": {},
   "source": [
    "# Using 'while' loop"
   ]
  },
  {
   "cell_type": "code",
   "execution_count": 8,
   "id": "b9a47a8a",
   "metadata": {},
   "outputs": [
    {
     "name": "stdout",
     "output_type": "stream",
     "text": [
      "0 even\n",
      "1 odd\n",
      "2 even\n",
      "3 odd\n",
      "4 even\n",
      "5 odd\n",
      "6 even\n",
      "7 odd\n",
      "8 even\n",
      "9 odd\n",
      "10 even\n",
      "11 odd\n",
      "12 even\n",
      "13 odd\n",
      "14 even\n",
      "15 odd\n",
      "16 even\n",
      "17 odd\n",
      "18 even\n",
      "19 odd\n",
      "20 even\n",
      "21 odd\n",
      "22 even\n",
      "23 odd\n",
      "24 even\n",
      "25 odd\n",
      "26 even\n",
      "27 odd\n",
      "28 even\n",
      "29 odd\n",
      "30 even\n",
      "31 odd\n",
      "32 even\n",
      "33 odd\n",
      "34 even\n",
      "35 odd\n",
      "36 even\n",
      "37 odd\n",
      "38 even\n",
      "39 odd\n",
      "40 even\n",
      "41 odd\n",
      "42 even\n",
      "43 odd\n",
      "44 even\n",
      "45 odd\n",
      "46 even\n",
      "47 odd\n",
      "48 even\n",
      "49 odd\n"
     ]
    }
   ],
   "source": [
    "i=0\n",
    "while i<50:\n",
    "    if i%2==0:\n",
    "        print(i,\"even\")\n",
    "    else:\n",
    "        print(i,\"odd\")    \n",
    "    i=i+1"
   ]
  },
  {
   "cell_type": "markdown",
   "id": "541bb7dd",
   "metadata": {},
   "source": [
    "# Data Types"
   ]
  },
  {
   "cell_type": "code",
   "execution_count": 9,
   "id": "ef16351d",
   "metadata": {},
   "outputs": [
    {
     "data": {
      "text/plain": [
       "str"
      ]
     },
     "execution_count": 9,
     "metadata": {},
     "output_type": "execute_result"
    }
   ],
   "source": [
    "x=\"TMV\"\n",
    "type(x)"
   ]
  },
  {
   "cell_type": "code",
   "execution_count": 10,
   "id": "680588cd",
   "metadata": {},
   "outputs": [
    {
     "data": {
      "text/plain": [
       "int"
      ]
     },
     "execution_count": 10,
     "metadata": {},
     "output_type": "execute_result"
    }
   ],
   "source": [
    "y=78\n",
    "type(y)"
   ]
  },
  {
   "cell_type": "code",
   "execution_count": 11,
   "id": "2225e66f",
   "metadata": {},
   "outputs": [
    {
     "data": {
      "text/plain": [
       "list"
      ]
     },
     "execution_count": 11,
     "metadata": {},
     "output_type": "execute_result"
    }
   ],
   "source": [
    "list1=[10,20,30,40,50]\n",
    "type(list1)"
   ]
  },
  {
   "cell_type": "code",
   "execution_count": 12,
   "id": "8eada0f3",
   "metadata": {},
   "outputs": [],
   "source": [
    "list1.append(60)"
   ]
  },
  {
   "cell_type": "code",
   "execution_count": 13,
   "id": "ee5554e9",
   "metadata": {},
   "outputs": [
    {
     "data": {
      "text/plain": [
       "[10, 20, 30, 40, 50, 60]"
      ]
     },
     "execution_count": 13,
     "metadata": {},
     "output_type": "execute_result"
    }
   ],
   "source": [
    "list1"
   ]
  },
  {
   "cell_type": "markdown",
   "id": "4fd642b0",
   "metadata": {},
   "source": [
    "# Separate or sort the elements from the below list according to their Data Types "
   ]
  },
  {
   "cell_type": "code",
   "execution_count": 14,
   "id": "87267b0e",
   "metadata": {},
   "outputs": [
    {
     "data": {
      "text/plain": [
       "list"
      ]
     },
     "execution_count": 14,
     "metadata": {},
     "output_type": "execute_result"
    }
   ],
   "source": [
    "list2=[30,\"read\",70.5,\"IOT\",8.5,66]\n",
    "type(list2)"
   ]
  },
  {
   "cell_type": "markdown",
   "id": "c2b0b9e2",
   "metadata": {},
   "source": [
    "## 1. Create empty lists"
   ]
  },
  {
   "cell_type": "code",
   "execution_count": 15,
   "id": "1bc756ef",
   "metadata": {},
   "outputs": [],
   "source": [
    "strlist=[]\n",
    "intlist=[]\n",
    "floatlist=[]"
   ]
  },
  {
   "cell_type": "markdown",
   "id": "4d2be75f",
   "metadata": {},
   "source": [
    "## 2. Using 'for' loop and 'elif' statement"
   ]
  },
  {
   "cell_type": "code",
   "execution_count": 16,
   "id": "be445621",
   "metadata": {},
   "outputs": [
    {
     "name": "stdout",
     "output_type": "stream",
     "text": [
      "['read', 'IOT'] [30, 66] [70.5, 8.5]\n"
     ]
    }
   ],
   "source": [
    "for i in (list2):\n",
    "    if type(i)==str:\n",
    "        strlist.append(i)\n",
    "    elif type(i)==int:\n",
    "        intlist.append(i)\n",
    "    else:\n",
    "        floatlist.append(i)\n",
    "\n",
    "print(strlist,intlist,floatlist)"
   ]
  },
  {
   "cell_type": "markdown",
   "id": "7158f335",
   "metadata": {},
   "source": [
    "# List Comprehension \n",
    "## easier way to achieve the same result in shorter code"
   ]
  },
  {
   "cell_type": "code",
   "execution_count": 17,
   "id": "c3577a65",
   "metadata": {},
   "outputs": [
    {
     "name": "stdout",
     "output_type": "stream",
     "text": [
      "['read', 'IOT'] [30, 66] [70.5, 8.5]\n"
     ]
    }
   ],
   "source": [
    "strlist=[i for i in list2 if type(i)==str]\n",
    "intlist=[i for i in list2 if type(i)==int]\n",
    "floatlist=[i for i in list2 if type(i)==float]\n",
    "\n",
    "print(strlist,intlist,floatlist)"
   ]
  },
  {
   "cell_type": "markdown",
   "id": "445dc134",
   "metadata": {},
   "source": [
    "# Indexing the List"
   ]
  },
  {
   "cell_type": "code",
   "execution_count": 18,
   "id": "45991957",
   "metadata": {},
   "outputs": [
    {
     "data": {
      "text/plain": [
       "70.5"
      ]
     },
     "execution_count": 18,
     "metadata": {},
     "output_type": "execute_result"
    }
   ],
   "source": [
    "list2[2]"
   ]
  },
  {
   "cell_type": "code",
   "execution_count": 19,
   "id": "04fb69cf",
   "metadata": {},
   "outputs": [
    {
     "data": {
      "text/plain": [
       "[30, 'read', 70.5, 'IOT', 8.5, 66]"
      ]
     },
     "execution_count": 19,
     "metadata": {},
     "output_type": "execute_result"
    }
   ],
   "source": [
    "list2[0:]"
   ]
  },
  {
   "cell_type": "code",
   "execution_count": 20,
   "id": "e318e076",
   "metadata": {},
   "outputs": [
    {
     "data": {
      "text/plain": [
       "'read'"
      ]
     },
     "execution_count": 20,
     "metadata": {},
     "output_type": "execute_result"
    }
   ],
   "source": [
    "list2[1]"
   ]
  },
  {
   "cell_type": "code",
   "execution_count": 21,
   "id": "17b711ac",
   "metadata": {},
   "outputs": [
    {
     "data": {
      "text/plain": [
       "'e'"
      ]
     },
     "execution_count": 21,
     "metadata": {},
     "output_type": "execute_result"
    }
   ],
   "source": [
    "list2[1][1]"
   ]
  },
  {
   "cell_type": "markdown",
   "id": "83ed5091",
   "metadata": {},
   "source": [
    "# Creating Functions"
   ]
  },
  {
   "cell_type": "markdown",
   "id": "647586bc",
   "metadata": {},
   "source": [
    "## Creating a Function for Addtion "
   ]
  },
  {
   "cell_type": "code",
   "execution_count": 22,
   "id": "5aa8c265",
   "metadata": {},
   "outputs": [],
   "source": [
    "def add(x,y):\n",
    "    return (x+y)"
   ]
  },
  {
   "cell_type": "code",
   "execution_count": 23,
   "id": "855084d4",
   "metadata": {},
   "outputs": [
    {
     "data": {
      "text/plain": [
       "11"
      ]
     },
     "execution_count": 23,
     "metadata": {},
     "output_type": "execute_result"
    }
   ],
   "source": [
    "add (5,6)"
   ]
  },
  {
   "cell_type": "markdown",
   "id": "2d78c22c",
   "metadata": {},
   "source": [
    "## Creating a Function for List Comprehension"
   ]
  },
  {
   "cell_type": "code",
   "execution_count": 24,
   "id": "3310e9fc",
   "metadata": {},
   "outputs": [],
   "source": [
    "def listcomp(x):\n",
    "    strlist=[i for i in x if type(i)==str]\n",
    "    intlist=[i for i in x if type(i)==int]\n",
    "    floatlist=[i for i in x if type(i)==float]\n",
    "\n",
    "    return(strlist,intlist,floatlist)"
   ]
  },
  {
   "cell_type": "code",
   "execution_count": 25,
   "id": "543e4a3b",
   "metadata": {},
   "outputs": [
    {
     "data": {
      "text/plain": [
       "(['name', 'abc', 'class', 'rollno.', 'contact'], [12, 130], [323.63])"
      ]
     },
     "execution_count": 25,
     "metadata": {},
     "output_type": "execute_result"
    }
   ],
   "source": [
    "list3=([\"name\",\"abc\",\"class\",12,\"rollno.\",130,\"contact\",323.63])\n",
    "listcomp(list3)"
   ]
  },
  {
   "cell_type": "code",
   "execution_count": 26,
   "id": "9a981ae4",
   "metadata": {},
   "outputs": [],
   "source": [
    "listsort1=listcomp(list3)"
   ]
  },
  {
   "cell_type": "code",
   "execution_count": 27,
   "id": "aab99b7b",
   "metadata": {},
   "outputs": [
    {
     "data": {
      "text/plain": [
       "tuple"
      ]
     },
     "execution_count": 27,
     "metadata": {},
     "output_type": "execute_result"
    }
   ],
   "source": [
    "type(listsort1)"
   ]
  },
  {
   "cell_type": "markdown",
   "id": "698366a3",
   "metadata": {},
   "source": [
    "### Changing the 'tuple' to a 'list'"
   ]
  },
  {
   "cell_type": "code",
   "execution_count": 28,
   "id": "5041c99f",
   "metadata": {},
   "outputs": [],
   "source": [
    "list3=([\"name\",\"abc\",\"class\",12,\"rollno.\",130,\"contact\",323.63])\n",
    "listsort2=listcomp(list3)"
   ]
  },
  {
   "cell_type": "code",
   "execution_count": 29,
   "id": "e06aa8de",
   "metadata": {},
   "outputs": [
    {
     "name": "stdout",
     "output_type": "stream",
     "text": [
      "['name', 'abc', 'class', 'rollno.', 'contact']\n",
      "[12, 130]\n",
      "[323.63]\n"
     ]
    }
   ],
   "source": [
    "for i in listsort2:\n",
    "    print(i)"
   ]
  },
  {
   "cell_type": "markdown",
   "id": "035b44e1",
   "metadata": {},
   "source": [
    "## Recursive Function"
   ]
  },
  {
   "cell_type": "code",
   "execution_count": 30,
   "id": "6b088b80",
   "metadata": {},
   "outputs": [],
   "source": [
    "def recursum(n):\n",
    "    if n <= 1:\n",
    "        return n\n",
    "    return n+recursum(n-1)"
   ]
  },
  {
   "cell_type": "code",
   "execution_count": 31,
   "id": "1eb99a13",
   "metadata": {},
   "outputs": [
    {
     "name": "stdout",
     "output_type": "stream",
     "text": [
      "55\n"
     ]
    }
   ],
   "source": [
    "n=10\n",
    "print(recursum(n))"
   ]
  },
  {
   "cell_type": "markdown",
   "id": "e0cc7498",
   "metadata": {},
   "source": [
    "### Recursive Function with Fibonacci Series"
   ]
  },
  {
   "cell_type": "code",
   "execution_count": 32,
   "id": "84814ea0",
   "metadata": {},
   "outputs": [],
   "source": [
    "def recurfib(n):\n",
    "    if n <= 1:\n",
    "        return (n)\n",
    "    else:\n",
    "        return (recurfib(n-1)+recurfib(n-2))"
   ]
  },
  {
   "cell_type": "code",
   "execution_count": 33,
   "id": "91cd6cdd",
   "metadata": {},
   "outputs": [
    {
     "name": "stdout",
     "output_type": "stream",
     "text": [
      "0\n",
      "1\n",
      "1\n",
      "2\n",
      "3\n",
      "5\n",
      "8\n",
      "13\n",
      "21\n",
      "34\n"
     ]
    }
   ],
   "source": [
    "n=10\n",
    "for i in range (n):\n",
    "    print(recurfib(i))"
   ]
  },
  {
   "cell_type": "markdown",
   "id": "c2775dc2",
   "metadata": {},
   "source": [
    "### Recursive Function for Factorial"
   ]
  },
  {
   "cell_type": "code",
   "execution_count": 34,
   "id": "56fb46e7",
   "metadata": {},
   "outputs": [],
   "source": [
    "def facto(n):\n",
    "    if (n==1 or n==0):\n",
    "        return (1)\n",
    "    else:\n",
    "        return (n*facto(n-1))"
   ]
  },
  {
   "cell_type": "code",
   "execution_count": 35,
   "id": "e2543aa4",
   "metadata": {},
   "outputs": [
    {
     "name": "stdout",
     "output_type": "stream",
     "text": [
      "720\n"
     ]
    }
   ],
   "source": [
    "n=6\n",
    "print(facto(n))"
   ]
  },
  {
   "cell_type": "markdown",
   "id": "45dce28e",
   "metadata": {},
   "source": [
    "## Generator Function"
   ]
  },
  {
   "cell_type": "code",
   "execution_count": 36,
   "id": "c818a108",
   "metadata": {},
   "outputs": [],
   "source": [
    "def gen_num(n):\n",
    "    v=0\n",
    "    while v < n: \n",
    "        yield v\n",
    "        v+=1    "
   ]
  },
  {
   "cell_type": "code",
   "execution_count": 37,
   "id": "51d4897a",
   "metadata": {},
   "outputs": [
    {
     "name": "stdout",
     "output_type": "stream",
     "text": [
      "0\n",
      "1\n",
      "2\n",
      "3\n",
      "4\n",
      "5\n",
      "6\n",
      "7\n",
      "8\n",
      "9\n",
      "10\n",
      "11\n",
      "12\n",
      "13\n",
      "14\n",
      "15\n",
      "16\n",
      "17\n",
      "18\n",
      "19\n"
     ]
    }
   ],
   "source": [
    "for v in gen_num(20):\n",
    "    print(v)"
   ]
  },
  {
   "cell_type": "markdown",
   "id": "b1ed3ff5",
   "metadata": {},
   "source": [
    "### To get single values"
   ]
  },
  {
   "cell_type": "code",
   "execution_count": 38,
   "id": "6c48dcbc",
   "metadata": {},
   "outputs": [
    {
     "name": "stdout",
     "output_type": "stream",
     "text": [
      "0\n"
     ]
    }
   ],
   "source": [
    "value=gen_num(6)\n",
    "print(next(value))"
   ]
  },
  {
   "cell_type": "code",
   "execution_count": 39,
   "id": "3d59430c",
   "metadata": {},
   "outputs": [
    {
     "name": "stdout",
     "output_type": "stream",
     "text": [
      "1\n"
     ]
    }
   ],
   "source": [
    "print(next(value))"
   ]
  },
  {
   "cell_type": "code",
   "execution_count": 40,
   "id": "b00eff5b",
   "metadata": {},
   "outputs": [
    {
     "name": "stdout",
     "output_type": "stream",
     "text": [
      "2\n"
     ]
    }
   ],
   "source": [
    "print(next(value))"
   ]
  },
  {
   "cell_type": "code",
   "execution_count": 41,
   "id": "28c449b3",
   "metadata": {},
   "outputs": [
    {
     "name": "stdout",
     "output_type": "stream",
     "text": [
      "3\n"
     ]
    }
   ],
   "source": [
    "print(next(value))"
   ]
  },
  {
   "cell_type": "code",
   "execution_count": 42,
   "id": "ca0231bc",
   "metadata": {},
   "outputs": [
    {
     "name": "stdout",
     "output_type": "stream",
     "text": [
      "4\n"
     ]
    }
   ],
   "source": [
    "print(next(value))"
   ]
  },
  {
   "cell_type": "code",
   "execution_count": 43,
   "id": "5e4136b0",
   "metadata": {},
   "outputs": [
    {
     "name": "stdout",
     "output_type": "stream",
     "text": [
      "5\n"
     ]
    }
   ],
   "source": [
    "print(next(value))"
   ]
  },
  {
   "cell_type": "markdown",
   "id": "ca585387",
   "metadata": {},
   "source": [
    "## Dictionaries"
   ]
  },
  {
   "cell_type": "code",
   "execution_count": 44,
   "id": "7b606709",
   "metadata": {},
   "outputs": [],
   "source": [
    "dict1={\"ABC\":[1996,\"abc\"], \"DEF\":[1997,\"def\"],\"GHI\":[1998,\"ghi\"],\"PQR\":[1999,\"pqr\"],\"XYZ\":2000}"
   ]
  },
  {
   "cell_type": "code",
   "execution_count": 45,
   "id": "ef01fc9a",
   "metadata": {},
   "outputs": [
    {
     "data": {
      "text/plain": [
       "dict"
      ]
     },
     "execution_count": 45,
     "metadata": {},
     "output_type": "execute_result"
    }
   ],
   "source": [
    "type(dict1)"
   ]
  },
  {
   "cell_type": "code",
   "execution_count": 46,
   "id": "f9441200",
   "metadata": {},
   "outputs": [
    {
     "data": {
      "text/plain": [
       "[1996, 'abc']"
      ]
     },
     "execution_count": 46,
     "metadata": {},
     "output_type": "execute_result"
    }
   ],
   "source": [
    "dict1[\"ABC\"]"
   ]
  },
  {
   "cell_type": "markdown",
   "id": "02ee20f5",
   "metadata": {},
   "source": [
    "### How many List values are present in the above Dictionary?"
   ]
  },
  {
   "cell_type": "code",
   "execution_count": 47,
   "id": "7e0db574",
   "metadata": {},
   "outputs": [
    {
     "data": {
      "text/plain": [
       "dict_keys(['ABC', 'DEF', 'GHI', 'PQR', 'XYZ'])"
      ]
     },
     "execution_count": 47,
     "metadata": {},
     "output_type": "execute_result"
    }
   ],
   "source": [
    "dict1.keys()"
   ]
  },
  {
   "cell_type": "code",
   "execution_count": 48,
   "id": "89302307",
   "metadata": {},
   "outputs": [
    {
     "name": "stdout",
     "output_type": "stream",
     "text": [
      "ABC\n",
      "DEF\n",
      "GHI\n",
      "PQR\n",
      "XYZ\n"
     ]
    }
   ],
   "source": [
    "for i in dict1.keys():\n",
    "    print(i)"
   ]
  },
  {
   "cell_type": "code",
   "execution_count": 49,
   "id": "4023196e",
   "metadata": {},
   "outputs": [
    {
     "data": {
      "text/plain": [
       "4"
      ]
     },
     "execution_count": 49,
     "metadata": {},
     "output_type": "execute_result"
    }
   ],
   "source": [
    "count=0\n",
    "for i in dict1.keys():\n",
    "    if type (dict1[i])==list:\n",
    "        count=count+1\n",
    "count"
   ]
  },
  {
   "cell_type": "markdown",
   "id": "55d6a9ca",
   "metadata": {},
   "source": [
    "# Error Handling"
   ]
  },
  {
   "cell_type": "code",
   "execution_count": 50,
   "id": "8055a0e7",
   "metadata": {},
   "outputs": [],
   "source": [
    "x=50\n",
    "y=0"
   ]
  },
  {
   "cell_type": "code",
   "execution_count": 51,
   "id": "225ba52a",
   "metadata": {},
   "outputs": [
    {
     "name": "stdout",
     "output_type": "stream",
     "text": [
      "Your code has an error\n"
     ]
    }
   ],
   "source": [
    "try:\n",
    "    x/y\n",
    "except:\n",
    "    print (\"Your code has an error\")"
   ]
  },
  {
   "cell_type": "code",
   "execution_count": 52,
   "id": "1d304d13",
   "metadata": {},
   "outputs": [],
   "source": [
    "x=50\n",
    "z=2"
   ]
  },
  {
   "cell_type": "code",
   "execution_count": 53,
   "id": "c4c49629",
   "metadata": {},
   "outputs": [
    {
     "name": "stdout",
     "output_type": "stream",
     "text": [
      "25.0\n"
     ]
    }
   ],
   "source": [
    "try:\n",
    "    x/z\n",
    "except:\n",
    "    print (\"Your code has an error\")\n",
    "else:\n",
    "    print(x/z)"
   ]
  },
  {
   "cell_type": "code",
   "execution_count": 54,
   "id": "e7174f3f",
   "metadata": {},
   "outputs": [
    {
     "name": "stdout",
     "output_type": "stream",
     "text": [
      "25.0\n",
      "Your code has run successfully\n"
     ]
    }
   ],
   "source": [
    "try:\n",
    "    x/z\n",
    "except:\n",
    "    print (\"Your code has an error\")\n",
    "else:\n",
    "    print(x/z)\n",
    "finally:\n",
    "    print(\"Your code has run successfully\")"
   ]
  },
  {
   "cell_type": "markdown",
   "id": "4be2b20f",
   "metadata": {},
   "source": [
    "# Creating a DataFrame"
   ]
  },
  {
   "cell_type": "code",
   "execution_count": 55,
   "id": "665b67c4",
   "metadata": {},
   "outputs": [],
   "source": [
    "import pandas as pd"
   ]
  },
  {
   "cell_type": "code",
   "execution_count": 56,
   "id": "797e764e",
   "metadata": {},
   "outputs": [],
   "source": [
    "dict2={\"Sonu\":[1996,\"Hyderabad\"], \"Payal\":[1997,\"Vishakapatnam\"],\"Anjana\":[1998,\"Warangal\"],\"Sriya\":[1999,\"Sangareddy\"],\"Divya\":2000}"
   ]
  },
  {
   "cell_type": "code",
   "execution_count": 57,
   "id": "fd8623e9",
   "metadata": {},
   "outputs": [],
   "source": [
    "df=pd.DataFrame(dict2)"
   ]
  },
  {
   "cell_type": "code",
   "execution_count": 58,
   "id": "ffb95a93",
   "metadata": {},
   "outputs": [
    {
     "data": {
      "text/html": [
       "<div>\n",
       "<style scoped>\n",
       "    .dataframe tbody tr th:only-of-type {\n",
       "        vertical-align: middle;\n",
       "    }\n",
       "\n",
       "    .dataframe tbody tr th {\n",
       "        vertical-align: top;\n",
       "    }\n",
       "\n",
       "    .dataframe thead th {\n",
       "        text-align: right;\n",
       "    }\n",
       "</style>\n",
       "<table border=\"1\" class=\"dataframe\">\n",
       "  <thead>\n",
       "    <tr style=\"text-align: right;\">\n",
       "      <th></th>\n",
       "      <th>Sonu</th>\n",
       "      <th>Payal</th>\n",
       "      <th>Anjana</th>\n",
       "      <th>Sriya</th>\n",
       "      <th>Divya</th>\n",
       "    </tr>\n",
       "  </thead>\n",
       "  <tbody>\n",
       "    <tr>\n",
       "      <th>0</th>\n",
       "      <td>1996</td>\n",
       "      <td>1997</td>\n",
       "      <td>1998</td>\n",
       "      <td>1999</td>\n",
       "      <td>2000</td>\n",
       "    </tr>\n",
       "    <tr>\n",
       "      <th>1</th>\n",
       "      <td>Hyderabad</td>\n",
       "      <td>Vishakapatnam</td>\n",
       "      <td>Warangal</td>\n",
       "      <td>Sangareddy</td>\n",
       "      <td>2000</td>\n",
       "    </tr>\n",
       "  </tbody>\n",
       "</table>\n",
       "</div>"
      ],
      "text/plain": [
       "        Sonu          Payal    Anjana       Sriya  Divya\n",
       "0       1996           1997      1998        1999   2000\n",
       "1  Hyderabad  Vishakapatnam  Warangal  Sangareddy   2000"
      ]
     },
     "execution_count": 58,
     "metadata": {},
     "output_type": "execute_result"
    }
   ],
   "source": [
    "df"
   ]
  },
  {
   "cell_type": "code",
   "execution_count": 59,
   "id": "0f89ff26",
   "metadata": {},
   "outputs": [
    {
     "data": {
      "text/html": [
       "<div>\n",
       "<style scoped>\n",
       "    .dataframe tbody tr th:only-of-type {\n",
       "        vertical-align: middle;\n",
       "    }\n",
       "\n",
       "    .dataframe tbody tr th {\n",
       "        vertical-align: top;\n",
       "    }\n",
       "\n",
       "    .dataframe thead th {\n",
       "        text-align: right;\n",
       "    }\n",
       "</style>\n",
       "<table border=\"1\" class=\"dataframe\">\n",
       "  <thead>\n",
       "    <tr style=\"text-align: right;\">\n",
       "      <th></th>\n",
       "      <th>Sonu</th>\n",
       "      <th>Payal</th>\n",
       "      <th>Anjana</th>\n",
       "      <th>Sriya</th>\n",
       "      <th>Divya</th>\n",
       "    </tr>\n",
       "  </thead>\n",
       "  <tbody>\n",
       "    <tr>\n",
       "      <th>0</th>\n",
       "      <td>1996</td>\n",
       "      <td>1997</td>\n",
       "      <td>1998</td>\n",
       "      <td>1999</td>\n",
       "      <td>2000</td>\n",
       "    </tr>\n",
       "    <tr>\n",
       "      <th>1</th>\n",
       "      <td>Hyderabad</td>\n",
       "      <td>Vishakapatnam</td>\n",
       "      <td>Warangal</td>\n",
       "      <td>Sangareddy</td>\n",
       "      <td>2000</td>\n",
       "    </tr>\n",
       "  </tbody>\n",
       "</table>\n",
       "</div>"
      ],
      "text/plain": [
       "        Sonu          Payal    Anjana       Sriya  Divya\n",
       "0       1996           1997      1998        1999   2000\n",
       "1  Hyderabad  Vishakapatnam  Warangal  Sangareddy   2000"
      ]
     },
     "execution_count": 59,
     "metadata": {},
     "output_type": "execute_result"
    }
   ],
   "source": [
    "df.head()"
   ]
  },
  {
   "cell_type": "code",
   "execution_count": 60,
   "id": "5e918f4c",
   "metadata": {},
   "outputs": [
    {
     "data": {
      "text/plain": [
       "(2, 5)"
      ]
     },
     "execution_count": 60,
     "metadata": {},
     "output_type": "execute_result"
    }
   ],
   "source": [
    "df.shape"
   ]
  },
  {
   "cell_type": "markdown",
   "id": "bcf355e2",
   "metadata": {},
   "source": [
    "### To save this dictionary as a csv file on local device"
   ]
  },
  {
   "cell_type": "code",
   "execution_count": 61,
   "id": "44875f66",
   "metadata": {},
   "outputs": [],
   "source": [
    "df.to_csv(\"dictionary.csv\")"
   ]
  },
  {
   "cell_type": "markdown",
   "id": "ca34e603",
   "metadata": {},
   "source": [
    "### To save this dictionary as an Excel file on local device"
   ]
  },
  {
   "cell_type": "code",
   "execution_count": 62,
   "id": "c798b90c",
   "metadata": {},
   "outputs": [],
   "source": [
    "df.to_excel(\"dictionary.xlsx\")"
   ]
  },
  {
   "cell_type": "markdown",
   "id": "ce9ef517",
   "metadata": {},
   "source": [
    "### To open local files in Jupyter or other platforms"
   ]
  },
  {
   "cell_type": "code",
   "execution_count": 63,
   "id": "a366db96",
   "metadata": {},
   "outputs": [],
   "source": [
    "# here 'w' stands for write mode\n",
    "file=open(\"text1.txt\",'w')\n",
    "file.write(\"This is the first line \\n\")\n",
    "file.close()"
   ]
  },
  {
   "cell_type": "code",
   "execution_count": 64,
   "id": "c0548de3",
   "metadata": {},
   "outputs": [],
   "source": [
    "# to make changes to the above created file without over-writing it, open it in append mode which is indicated by 'a'\n",
    "file=open(\"text1.txt\",'a')\n",
    "file.write(\"This is the second line \\n\")\n",
    "file.close()"
   ]
  },
  {
   "cell_type": "code",
   "execution_count": 65,
   "id": "0b28dc32",
   "metadata": {},
   "outputs": [
    {
     "name": "stdout",
     "output_type": "stream",
     "text": [
      "This is the first line \n",
      "This is the second line \n",
      "\n"
     ]
    }
   ],
   "source": [
    "# to view the file, open in read mode indicated by 'r'\n",
    "file=open(\"text1.txt\",'r')\n",
    "print(file.read())"
   ]
  },
  {
   "cell_type": "code",
   "execution_count": 66,
   "id": "dd2203f3",
   "metadata": {},
   "outputs": [
    {
     "data": {
      "text/plain": [
       "['This is the first line \\n', 'This is the second line \\n']"
      ]
     },
     "execution_count": 66,
     "metadata": {},
     "output_type": "execute_result"
    }
   ],
   "source": [
    "file=open(\"text1.txt\",'r')\n",
    "file.readlines()"
   ]
  },
  {
   "cell_type": "markdown",
   "id": "58744775",
   "metadata": {},
   "source": [
    "### Alternate Method using the 'with' keyword"
   ]
  },
  {
   "cell_type": "code",
   "execution_count": 67,
   "id": "2bfc496f",
   "metadata": {},
   "outputs": [
    {
     "name": "stdout",
     "output_type": "stream",
     "text": [
      "This is the first line \n",
      "This is the second line \n",
      "\n"
     ]
    }
   ],
   "source": [
    "with open(\"text1.txt\",'r') as file:\n",
    "    print(file.read())"
   ]
  },
  {
   "cell_type": "markdown",
   "id": "71e8b65e",
   "metadata": {},
   "source": [
    "### To find the longest word in given file"
   ]
  },
  {
   "cell_type": "code",
   "execution_count": 68,
   "id": "b5585c55",
   "metadata": {},
   "outputs": [
    {
     "name": "stdout",
     "output_type": "stream",
     "text": [
      "['This', 'is', 'the', 'first', 'line', 'This', 'is', 'the', 'second', 'line']\n"
     ]
    }
   ],
   "source": [
    "with open(\"text1.txt\",'r') as file:\n",
    "    word_list=file.read().split()\n",
    "    print(word_list)"
   ]
  },
  {
   "cell_type": "code",
   "execution_count": 69,
   "id": "d3ca98c2",
   "metadata": {},
   "outputs": [],
   "source": [
    "len_word=[]"
   ]
  },
  {
   "cell_type": "code",
   "execution_count": 70,
   "id": "dbe15109",
   "metadata": {},
   "outputs": [
    {
     "data": {
      "text/plain": [
       "10"
      ]
     },
     "execution_count": 70,
     "metadata": {},
     "output_type": "execute_result"
    }
   ],
   "source": [
    "len(word_list)"
   ]
  },
  {
   "cell_type": "code",
   "execution_count": 71,
   "id": "23258656",
   "metadata": {},
   "outputs": [
    {
     "name": "stdout",
     "output_type": "stream",
     "text": [
      "This [4]\n",
      "is [2]\n",
      "the [3]\n",
      "first [5]\n",
      "line [4]\n",
      "This [4]\n",
      "is [2]\n",
      "the [3]\n",
      "second [6]\n",
      "line [4]\n"
     ]
    }
   ],
   "source": [
    "for i in word_list:\n",
    "    print(i,[len(i)])"
   ]
  },
  {
   "cell_type": "code",
   "execution_count": 72,
   "id": "fc59c907",
   "metadata": {},
   "outputs": [
    {
     "name": "stdout",
     "output_type": "stream",
     "text": [
      "The longest word is the\n"
     ]
    }
   ],
   "source": [
    "len_word=[]\n",
    "len_word.append(len(i))\n",
    "print(\"The longest word is\", max(word_list))\n",
    "\n",
    "# here we are not getting the output as the longest word but rather the word that is occuring the most, \n",
    "# which happens to be 'the' in this instance"
   ]
  },
  {
   "cell_type": "markdown",
   "id": "bb556791",
   "metadata": {},
   "source": [
    "### Defining a function to find the longest word "
   ]
  },
  {
   "cell_type": "code",
   "execution_count": 73,
   "id": "76f02a2d",
   "metadata": {},
   "outputs": [],
   "source": [
    "def longest_word(file):\n",
    "    with open(file,'r') as f:\n",
    "        words=f.read().split()\n",
    "    return(max(words,key=len))"
   ]
  },
  {
   "cell_type": "code",
   "execution_count": 74,
   "id": "87f89886",
   "metadata": {},
   "outputs": [
    {
     "name": "stdout",
     "output_type": "stream",
     "text": [
      "second\n"
     ]
    }
   ],
   "source": [
    "print (longest_word(\"text1.txt\"))"
   ]
  },
  {
   "cell_type": "code",
   "execution_count": 75,
   "id": "75da9a05",
   "metadata": {},
   "outputs": [
    {
     "ename": "SyntaxError",
     "evalue": "(unicode error) 'unicodeescape' codec can't decode bytes in position 2-3: truncated \\UXXXXXXXX escape (<ipython-input-75-d7d84696ec61>, line 1)",
     "output_type": "error",
     "traceback": [
      "\u001b[1;36m  File \u001b[1;32m\"<ipython-input-75-d7d84696ec61>\"\u001b[1;36m, line \u001b[1;32m1\u001b[0m\n\u001b[1;33m    print (longest_word(\"C:\\Users\\91733\\anaconda3\\Lib\\site-packages\\spacy\\tests\\tokenizer\\sun.txt\"))\u001b[0m\n\u001b[1;37m                        ^\u001b[0m\n\u001b[1;31mSyntaxError\u001b[0m\u001b[1;31m:\u001b[0m (unicode error) 'unicodeescape' codec can't decode bytes in position 2-3: truncated \\UXXXXXXXX escape\n"
     ]
    }
   ],
   "source": [
    "print (longest_word(\"C:\\Users\\91733\\anaconda3\\Lib\\site-packages\\spacy\\tests\\tokenizer\\sun.txt\"))"
   ]
  },
  {
   "cell_type": "code",
   "execution_count": 76,
   "id": "47d1c545",
   "metadata": {},
   "outputs": [],
   "source": [
    "# here we are getting a Unicode Error whic can be solved by changing all the backward slashes to forward slashes\n",
    "# backward slash - absolute path\n",
    "# forward slash - relative path"
   ]
  },
  {
   "cell_type": "code",
   "execution_count": 77,
   "id": "65b3d6b9",
   "metadata": {},
   "outputs": [
    {
     "name": "stdout",
     "output_type": "stream",
     "text": [
      "âˆ’26.74.[22][23]\n"
     ]
    }
   ],
   "source": [
    "print (longest_word(\"C:/Users/91733/anaconda3/Lib/site-packages/spacy/tests/tokenizer/sun.txt\"))"
   ]
  },
  {
   "cell_type": "code",
   "execution_count": 1,
   "id": "cf5d97aa",
   "metadata": {},
   "outputs": [],
   "source": [
    "# adding error handling concpet to this\n",
    "# def longest_word(file):\n",
    "#    try:\n",
    "#        with open(file,'r') as f:\n",
    "#            words=f.read().split()\n",
    "#    except UnicodeError:\n",
    "#        return (\"Check the file\")\n",
    "#    else:\n",
    "#        return (max(words,key=len))\n",
    "#       \n",
    "# print (longest_word(\"C:\\Users\\91733\\anaconda3\\Lib\\site-packages\\spacy\\tests\\tokenizer\\sun.txt\"))"
   ]
  },
  {
   "cell_type": "markdown",
   "id": "d7f8c7c8",
   "metadata": {},
   "source": [
    "### Defining a function to find the shortest word"
   ]
  },
  {
   "cell_type": "code",
   "execution_count": 79,
   "id": "638f1828",
   "metadata": {},
   "outputs": [],
   "source": [
    "def shortest_word(file):\n",
    "    with open(file,'r') as f:\n",
    "        words=f.read().split()\n",
    "    return(min(words,key=len))"
   ]
  },
  {
   "cell_type": "code",
   "execution_count": 80,
   "id": "504f23aa",
   "metadata": {
    "scrolled": true
   },
   "outputs": [
    {
     "name": "stdout",
     "output_type": "stream",
     "text": [
      "is\n"
     ]
    }
   ],
   "source": [
    "print (shortest_word(\"text1.txt\"))"
   ]
  },
  {
   "cell_type": "code",
   "execution_count": 81,
   "id": "1d2d0ed7",
   "metadata": {},
   "outputs": [
    {
     "name": "stdout",
     "output_type": "stream",
     "text": [
      "a\n"
     ]
    }
   ],
   "source": [
    "print (shortest_word(\"C:/Users/91733/anaconda3/Lib/site-packages/spacy/tests/tokenizer/sun.txt\"))"
   ]
  },
  {
   "cell_type": "markdown",
   "id": "c41180f7",
   "metadata": {},
   "source": [
    "# Lambda Functions"
   ]
  },
  {
   "cell_type": "code",
   "execution_count": 82,
   "id": "3c55b6a6",
   "metadata": {},
   "outputs": [
    {
     "data": {
      "text/plain": [
       "100"
      ]
     },
     "execution_count": 82,
     "metadata": {},
     "output_type": "execute_result"
    }
   ],
   "source": [
    "t=lambda r:r**2\n",
    "t(10)"
   ]
  },
  {
   "cell_type": "markdown",
   "id": "5d4e5d27",
   "metadata": {},
   "source": [
    "## Filter Functions"
   ]
  },
  {
   "cell_type": "markdown",
   "id": "b39a0ade",
   "metadata": {},
   "source": [
    "### To filter out the odd numbers from given list"
   ]
  },
  {
   "cell_type": "code",
   "execution_count": 83,
   "id": "06d86905",
   "metadata": {},
   "outputs": [],
   "source": [
    "list3=[2,5,6,7,8,9,10]"
   ]
  },
  {
   "cell_type": "code",
   "execution_count": 84,
   "id": "5fa162fa",
   "metadata": {},
   "outputs": [
    {
     "name": "stdout",
     "output_type": "stream",
     "text": [
      "[5, 7, 9]\n"
     ]
    }
   ],
   "source": [
    "odd_num=list(filter(lambda i:i%2!=0,list3))\n",
    "print(odd_num)"
   ]
  },
  {
   "cell_type": "markdown",
   "id": "53592455",
   "metadata": {},
   "source": [
    "### To sort the list accroding to quantity"
   ]
  },
  {
   "cell_type": "code",
   "execution_count": 85,
   "id": "a5443444",
   "metadata": {},
   "outputs": [
    {
     "data": {
      "text/plain": [
       "[['Apples', 60], ['Bananna', 300], ['Grapes', 140], ['Mango', 200]]"
      ]
     },
     "execution_count": 85,
     "metadata": {},
     "output_type": "execute_result"
    }
   ],
   "source": [
    "fruit_list=[[\"Mango\",200],[\"Grapes\",140],[\"Apples\",60],[\"Bananna\",300]]\n",
    "fruit_list.sort()\n",
    "fruit_list"
   ]
  },
  {
   "cell_type": "code",
   "execution_count": 86,
   "id": "102adbe3",
   "metadata": {},
   "outputs": [],
   "source": [
    "# here the sort function by default sorts them into alphabetical order\n",
    "# to avoid this, a key should be specified as done in the below cell where the 'i' value is used to indicate the quantity"
   ]
  },
  {
   "cell_type": "code",
   "execution_count": 87,
   "id": "72a4d4ae",
   "metadata": {},
   "outputs": [
    {
     "name": "stdout",
     "output_type": "stream",
     "text": [
      "[['Apples', 60], ['Grapes', 140], ['Mango', 200], ['Bananna', 300]]\n"
     ]
    }
   ],
   "source": [
    "fruit_list=[[\"Mango\",200],[\"Grapes\",140],[\"Apples\",60],[\"Bananna\",300]]\n",
    "fruit_list.sort(key=lambda i:i[1])\n",
    "print (fruit_list)"
   ]
  }
 ],
 "metadata": {
  "kernelspec": {
   "display_name": "Python 3",
   "language": "python",
   "name": "python3"
  },
  "language_info": {
   "codemirror_mode": {
    "name": "ipython",
    "version": 3
   },
   "file_extension": ".py",
   "mimetype": "text/x-python",
   "name": "python",
   "nbconvert_exporter": "python",
   "pygments_lexer": "ipython3",
   "version": "3.8.8"
  }
 },
 "nbformat": 4,
 "nbformat_minor": 5
}
