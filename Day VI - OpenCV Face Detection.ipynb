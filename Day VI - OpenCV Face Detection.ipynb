{
 "cells": [
  {
   "cell_type": "markdown",
   "id": "b9396f88",
   "metadata": {},
   "source": [
    "# This code turn on your camera, to turn it off:\n",
    "# close the Jupyter NB > close Jupyter \n",
    "# re-launch Jupyter if required "
   ]
  },
  {
   "cell_type": "code",
   "execution_count": 1,
   "id": "8a5fe604",
   "metadata": {},
   "outputs": [],
   "source": [
    "import cv2"
   ]
  },
  {
   "cell_type": "code",
   "execution_count": 2,
   "id": "75ea08d3",
   "metadata": {},
   "outputs": [
    {
     "data": {
      "text/plain": [
       "\"alg='haarcascade_frontalface_default.xml' \""
      ]
     },
     "execution_count": 2,
     "metadata": {},
     "output_type": "execute_result"
    }
   ],
   "source": [
    "#Accessing the model\n",
    "\n",
    "'''alg='haarcascade_frontalface_default.xml' '''"
   ]
  },
  {
   "cell_type": "code",
   "execution_count": 3,
   "id": "eb469e0a",
   "metadata": {},
   "outputs": [
    {
     "data": {
      "text/plain": [
       "'cascade=cv2.CascadeClassifier(alg)'"
      ]
     },
     "execution_count": 3,
     "metadata": {},
     "output_type": "execute_result"
    }
   ],
   "source": [
    "# Loading the module with cv2\n",
    "\n",
    "'''cascade=cv2.CascadeClassifier(alg)'''"
   ]
  },
  {
   "cell_type": "code",
   "execution_count": 4,
   "id": "70a4d2c7",
   "metadata": {},
   "outputs": [
    {
     "data": {
      "text/plain": [
       "' cam=cv2.VideoCapture(0)'"
      ]
     },
     "execution_count": 4,
     "metadata": {},
     "output_type": "execute_result"
    }
   ],
   "source": [
    "# Initializing camera\n",
    "\n",
    "''' cam=cv2.VideoCapture(0)'''"
   ]
  },
  {
   "cell_type": "code",
   "execution_count": 5,
   "id": "ff3597bc",
   "metadata": {},
   "outputs": [
    {
     "data": {
      "text/plain": [
       "'while True:\\n    # read the frame fom the camera\\n    _,img=cam.read()\\n    # converting the color scheme to gray\\n    grayImg=cv2.cvtColor(img,cv2.COLOR_BGR2GRAY)\\n    # get coordinates of \\n    face=cascade.detectMultiScale(grayImg)\\n    # segregating x, y, w, h\\n    for (x,y,w,h) in face:\\n        # \\n        cv2.rectangle(img,(x,y),(x+w,y+h),(0,255,0),2)\\n    cv2.imshow(\"FaceDetect\",img)\\n    key=cv2.waitKey(1)'"
      ]
     },
     "execution_count": 5,
     "metadata": {},
     "output_type": "execute_result"
    }
   ],
   "source": [
    "'''while True:\n",
    "    # read the frame fom the camera\n",
    "    _,img=cam.read()\n",
    "    # converting the color scheme to gray\n",
    "    grayImg=cv2.cvtColor(img,cv2.COLOR_BGR2GRAY)\n",
    "    # get coordinates of \n",
    "    face=cascade.detectMultiScale(grayImg)\n",
    "    # segregating x, y, w, h\n",
    "    for (x,y,w,h) in face:\n",
    "        # \n",
    "        cv2.rectangle(img,(x,y),(x+w,y+h),(0,255,0),2)\n",
    "    cv2.imshow(\"FaceDetect\",img)\n",
    "    key=cv2.waitKey(1)'''"
   ]
  },
  {
   "cell_type": "markdown",
   "id": "c744b2d1",
   "metadata": {},
   "source": [
    "# Different Approach"
   ]
  },
  {
   "cell_type": "code",
   "execution_count": 6,
   "id": "8416ad12",
   "metadata": {},
   "outputs": [],
   "source": [
    "'''from cv2 import * '''"
   ]
  },
  {
   "cell_type": "code",
   "execution_count": 7,
   "id": "7aeb0854",
   "metadata": {},
   "outputs": [],
   "source": [
    "'''cam_port=0'''"
   ]
  },
  {
   "cell_type": "code",
   "execution_count": 9,
   "id": "e4f7b52d",
   "metadata": {},
   "outputs": [
    {
     "data": {
      "text/plain": [
       "'cam=VidoeCapture(cam_port)'"
      ]
     },
     "execution_count": 9,
     "metadata": {},
     "output_type": "execute_result"
    }
   ],
   "source": [
    "'''cam=VidoeCapture(cam_port)'''"
   ]
  },
  {
   "cell_type": "code",
   "execution_count": 10,
   "id": "681be048",
   "metadata": {},
   "outputs": [
    {
     "data": {
      "text/plain": [
       "'result,image=cam.read()'"
      ]
     },
     "execution_count": 10,
     "metadata": {},
     "output_type": "execute_result"
    }
   ],
   "source": [
    "'''result,image=cam.read()'''"
   ]
  },
  {
   "cell_type": "code",
   "execution_count": 11,
   "id": "ee3a3f1e",
   "metadata": {},
   "outputs": [
    {
     "data": {
      "text/plain": [
       "'if result:\\n    imshow(\"pst\",image)\\n    imwrite(\"pst\",image)\\n    \\n    waitKey(0)\\n    destroyWindow(\"pst\")\\nelse:\\n    print(\"No image\")'"
      ]
     },
     "execution_count": 11,
     "metadata": {},
     "output_type": "execute_result"
    }
   ],
   "source": [
    "'''if result:\n",
    "    imshow(\"pst\",image)\n",
    "    imwrite(\"pst\",image)\n",
    "    \n",
    "    waitKey(0)\n",
    "    destroyWindow(\"pst\")\n",
    "else:\n",
    "    print(\"No image\")'''"
   ]
  }
 ],
 "metadata": {
  "kernelspec": {
   "display_name": "Python 3",
   "language": "python",
   "name": "python3"
  },
  "language_info": {
   "codemirror_mode": {
    "name": "ipython",
    "version": 3
   },
   "file_extension": ".py",
   "mimetype": "text/x-python",
   "name": "python",
   "nbconvert_exporter": "python",
   "pygments_lexer": "ipython3",
   "version": "3.8.8"
  }
 },
 "nbformat": 4,
 "nbformat_minor": 5
}
