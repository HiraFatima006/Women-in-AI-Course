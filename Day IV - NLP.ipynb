{
 "cells": [
  {
   "cell_type": "markdown",
   "id": "2a239318",
   "metadata": {},
   "source": [
    "# Rake - Rapid Automatic Keyword Extraction Algorithm"
   ]
  },
  {
   "cell_type": "code",
   "execution_count": 1,
   "id": "8be4acb0",
   "metadata": {},
   "outputs": [],
   "source": [
    "from rake_nltk import Rake\n",
    "rake_nltk_var=Rake()"
   ]
  },
  {
   "cell_type": "code",
   "execution_count": 2,
   "id": "bdc93cc7",
   "metadata": {},
   "outputs": [],
   "source": [
    "text=\"\"\"I am a Programmer from India and I am here to guide you with Data Science, Machine Learning, Python and C++ for free. \n",
    "      I hope you will learn a lot in your journey towards Coding, Machine Learning and Artificial Intelligence with me.\"\"\""
   ]
  },
  {
   "cell_type": "code",
   "execution_count": 3,
   "id": "d5622e0f",
   "metadata": {},
   "outputs": [
    {
     "name": "stdout",
     "output_type": "stream",
     "text": [
      "['journey towards coding', 'machine learning', 'machine learning', 'data science', 'c ++', 'artificial intelligence', 'python', 'programmer', 'lot', 'learn', 'india', 'hope', 'guide', 'free']\n"
     ]
    }
   ],
   "source": [
    "rake_nltk_var.extract_keywords_from_text(text)\n",
    "keyword_extracted=rake_nltk_var.get_ranked_phrases()\n",
    "print(keyword_extracted)"
   ]
  },
  {
   "cell_type": "markdown",
   "id": "d6edcf16",
   "metadata": {},
   "source": [
    "# Yake - Yet Another Keyword Extractor Algorithm"
   ]
  },
  {
   "cell_type": "code",
   "execution_count": 4,
   "id": "235208a1",
   "metadata": {},
   "outputs": [],
   "source": [
    "import yake"
   ]
  },
  {
   "cell_type": "code",
   "execution_count": 5,
   "id": "4a699562",
   "metadata": {},
   "outputs": [
    {
     "name": "stdout",
     "output_type": "stream",
     "text": [
      "('open-source software library', 0.007321883374053632)\n",
      "('language programming processing', 0.00978896477312078)\n",
      "('advanced natural language', 0.010962043841203115)\n",
      "('natural language programming', 0.016514157697624248)\n",
      "('programming processing', 0.0325194426147957)\n",
      "('open-source software', 0.03663237450220032)\n",
      "('software library', 0.03663237450220032)\n",
      "('library for advanced', 0.03663237450220032)\n",
      "('advanced natural', 0.03663237450220032)\n",
      "('natural language', 0.05417025203414716)\n",
      "('language programming', 0.08075856287328961)\n",
      "('programming languages', 0.08075856287328961)\n",
      "('spaCy', 0.11521656054299435)\n",
      "('processing', 0.11521656054299435)\n",
      "('written', 0.11521656054299435)\n",
      "('programming', 0.13667842094541144)\n",
      "('open-source', 0.1879836817695587)\n",
      "('software', 0.1879836817695587)\n",
      "('library', 0.1879836817695587)\n",
      "('advanced', 0.1879836817695587)\n"
     ]
    }
   ],
   "source": [
    "kw_extractor=yake.KeywordExtractor()\n",
    "text=\"\"\"spaCy is an open-source software library for advanced natural language programming processing, \n",
    "        written in the programming languages\"\"\"\n",
    "language=\"en\" \n",
    "max_ngram_size=3\n",
    "deduplication_threshold=0.9\n",
    "numOfKeywords=20\n",
    "custom_kw_extractor=yake.KeywordExtractor(lan=language, \n",
    "                                          n=max_ngram_size, \n",
    "                                          dedupLim=deduplication_threshold, \n",
    "                                          top=numOfKeywords,features=None)\n",
    "keywords=custom_kw_extractor.extract_keywords(text)\n",
    "for kw in keywords:\n",
    "    print(kw)"
   ]
  }
 ],
 "metadata": {
  "kernelspec": {
   "display_name": "Python 3",
   "language": "python",
   "name": "python3"
  },
  "language_info": {
   "codemirror_mode": {
    "name": "ipython",
    "version": 3
   },
   "file_extension": ".py",
   "mimetype": "text/x-python",
   "name": "python",
   "nbconvert_exporter": "python",
   "pygments_lexer": "ipython3",
   "version": "3.8.8"
  }
 },
 "nbformat": 4,
 "nbformat_minor": 5
}
